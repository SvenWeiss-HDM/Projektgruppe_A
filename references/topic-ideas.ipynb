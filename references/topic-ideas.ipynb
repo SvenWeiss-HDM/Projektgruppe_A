{
 "cells": [
  {
   "cell_type": "markdown",
   "metadata": {},
   "source": [
    "# Topic ideas\n",
    "\n",
    "---\n",
    "\n",
    "Group name:\n",
    "\n",
    "---\n",
    "\n",
    "*Replace the italic texts with your descriptions*"
   ]
  },
  {
   "cell_type": "markdown",
   "metadata": {},
   "source": [
    "### Alex"
   ]
  },
  {
   "cell_type": "markdown",
   "metadata": {},
   "source": [
    "Arbeitslosenquote\n",
    "\n",
    "Wohnraumnutzung"
   ]
  },
  {
   "cell_type": "markdown",
   "metadata": {},
   "source": [
    "### Lukas"
   ]
  },
  {
   "cell_type": "markdown",
   "metadata": {},
   "source": [
    "#### Idee 1: Speed-Dating\n",
    "\n",
    "- Dataset: https://perso.telecom-paristech.fr/eagan/class/igr204/datasets\n",
    "- Explanation: https://perso.telecom-paristech.fr/eagan/class/igr204/data/SpeedDatingKey.pdf\n",
    "\n",
    "- sehr großes Datenset, viele Möglichkeiten zur Auswertung. Vorfilterung der Daten nötig.\n",
    "\n",
    "Mögliche Fragen: \n",
    "- Was hat Einfluss ob es ein Match gibt oder nicht (Beruf/Gehalt, Interessen, Charakter etc.)\n",
    "-> Vorhersage anhand Kriterien ob es ein Match gibt oder nicht"
   ]
  },
  {
   "cell_type": "markdown",
   "metadata": {},
   "source": [
    "#### Idee 2: World-Cup Spieler\n",
    "\n",
    "- Dataset: https://projects.fivethirtyeight.com/world-cup-comparisons/\n",
    "- Auswertung verschiedener Spieler -> https://projects.fivethirtyeight.com/world-cup-comparisons/\n",
    "\n",
    "Mögliche Fragen:\n",
    "- Was hat am meisten Einfluss auf's Tore schießen?\n",
    "- ..."
   ]
  },
  {
   "cell_type": "markdown",
   "metadata": {},
   "source": [
    "#### Idee 3: Global Power Plants\n",
    "\n",
    "- Dataset: https://datasets.wri.org/dataset/globalpowerplantdatabase\n",
    "\n",
    "- großes Datenset, allerdings unterschiedliche Datenqualität. Kleinere Kraftwerke für erneuerbare Energien schlecht erfasst.\n",
    "\n",
    "Mögliche Fragen:\n",
    "- Wie viel erneuerbare Energie braucht man, um auf alle anderen Energieträger zu verzichten\n",
    "- Welches Land nutzt welchen Energiemix, mit was hängt das zusammen ..\n",
    "- Wann wurden welche Anlagen gebaut..\n",
    "- Evtl. Clustern lassen und schauen ob es mit der Energiemenge zusammenpasst .."
   ]
  },
  {
   "cell_type": "markdown",
   "metadata": {},
   "source": [
    "### Sven"
   ]
  },
  {
   "cell_type": "markdown",
   "metadata": {},
   "source": [
    "Bank Marketing Data Set,\n",
    "http://archive.ics.uci.edu/ml/datasets/Bank+Marketing,\n",
    "\n",
    "Abalone Data Set,\n",
    "https://archive.ics.uci.edu/ml/datasets/abalone,\n",
    "\n",
    "Online Shopping Data Set,\n",
    "https://archive.ics.uci.edu/ml/datasets/clickstream+data+for+online+shopping\n",
    "\n",
    "News Popularity Dataset\n",
    "https://archive.ics.uci.edu/ml/datasets/Online+News+Popularity"
   ]
  },
  {
   "cell_type": "markdown",
   "metadata": {},
   "source": [
    "## Name of topic idea 1\n",
    "\n",
    "### Data source\n",
    "\n",
    "*State the source of the data set and describe when and how it was originally collected (by the original data curator, not necessarily how you found the data)*\n",
    "\n",
    "\n",
    "### Data characterisitcs\n",
    "\n",
    " *Describe the observations and the general characteristics being measured in the data (note that the data needs to meet the  criteria described in the project description)*\n",
    "\n",
    "### Research question\n",
    "\n",
    "*Describe a research question you're interested in answering using this data. State the response variable and possible predictor variables.*\n",
    "\n",
    "### Overview of data\n",
    "\n",
    "*Use the Pandas functions to provide an overview of the data set*\n"
   ]
  },
  {
   "cell_type": "code",
   "execution_count": null,
   "metadata": {},
   "outputs": [],
   "source": []
  },
  {
   "cell_type": "markdown",
   "metadata": {},
   "source": [
    "## Name of topic idea 2\n",
    "\n",
    "### Data source\n",
    "\n",
    "*State the source of the data set and describe when and how it was originally collected (by the original data curator, not necessarily how you found the data)*\n",
    "\n",
    "\n",
    "### Data characterisitcs\n",
    "\n",
    " *Describe the observations and the general characteristics being measured in the data (note that the data needs to meet the  criteria described in the project description)*\n",
    "\n",
    "### Research question\n",
    "\n",
    "*Describe a research question you're interested in answering using this data. State the response variable and possible predictor variables.*\n",
    "\n",
    "### Overview of data\n",
    "\n",
    "*Use the Pandas functions to provide an overview of the data set*\n"
   ]
  },
  {
   "cell_type": "code",
   "execution_count": null,
   "metadata": {},
   "outputs": [],
   "source": []
  }
 ],
 "metadata": {
  "kernelspec": {
   "display_name": "Python 3.9.13 ('venv')",
   "language": "python",
   "name": "python3"
  },
  "language_info": {
   "codemirror_mode": {
    "name": "ipython",
    "version": 3
   },
   "file_extension": ".py",
   "mimetype": "text/x-python",
   "name": "python",
   "nbconvert_exporter": "python",
   "pygments_lexer": "ipython3",
   "version": "3.9.13"
  },
  "orig_nbformat": 4,
  "vscode": {
   "interpreter": {
    "hash": "a3b5df05c9b1243e0c77cc3e15009a6bd0c4fa130264e973bfb68910cc19fc89"
   }
  }
 },
 "nbformat": 4,
 "nbformat_minor": 2
}
