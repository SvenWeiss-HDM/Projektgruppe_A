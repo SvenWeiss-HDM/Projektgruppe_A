{
 "cells": [
  {
   "attachments": {},
   "cell_type": "markdown",
   "metadata": {},
   "source": [
    "# Project proposal\n",
    "\n",
    "---\n",
    "\n",
    "Group name: Gruppe A\n",
    "\n",
    "---\n"
   ]
  },
  {
   "attachments": {},
   "cell_type": "markdown",
   "metadata": {},
   "source": [
    "## Introduction\n",
    "\n",
    "In the last 30 years, the dating approach has changed and has become increasingly difficult. The willingness to date has decreased, dating is too expensive and time consuming, we have too many (perceived) options to date someone and we struggle because of accepting too easily negative sex stereotypes. In the 19th century, a custom in the United States called New Year’s Calling, was that on New Year's Day many young, single women would hold an Open House (a party or reception during which a person's home is open to visitors) on 1 January where they would invite eligible bachelors, both friends and strangers, to stop by for a brief (no more than 10–15-minute) visit. This custom was established with the term SpeedDating as a registered trademark by Aish HaTorah, who began hosting SpeedDating events in 1998. \n",
    "\n",
    "10 years later, Fisman et al. conducted a survey regarding speed dating habits and collected 8,000 observations during his 2 – year observation in his paper Gender Differences in Mate Selection: Evidence from a Speed Dating Experiment. Because speed dating has become more and more interesting in the last few years and also through Corona a completely new dating approach has emerged, we want to discuss contexts in speed dating. With the data from this survey, we want to answer the following research questions:\n",
    "\n",
    "-   What are the most effective characteristics to achieve a match in opposite sex speed dating?\n",
    "-   What type of persons have the best chances to achieve a match regarding their characteristics? \n",
    "\n",
    "To answer our research question, we defined the following sub-questions to strengthen our main research question:\n",
    "\n",
    "-   Do specific characteristics affect the match selection of the survey participants?\n",
    "-   Do these specific characteristics occur in both sexes?\n",
    "-   What type of persons participate in speed dating events?\n",
    "\n",
    "The following hypotheses support our research question:\n",
    "Null hypothesis: \n",
    "-   There is no affection of having specific characteristics regarding match selection of the survey participants\n",
    "\n",
    "Hypotheses:\n",
    "-   Survey participants who both have the specific characteristics samerace and opposite gender tend to achieve more matches\n",
    "-   Survey participants with a higher income tend to achieve more matches than survey participants with a lower income\n",
    "-   Achieving matches because of having the same specific characteristics occur in both sexes\n"
   ]
  },
  {
   "attachments": {},
   "cell_type": "markdown",
   "metadata": {},
   "source": [
    "\n",
    "## Data description\n",
    "\n",
    "In this section, you will describe the data set you wish to explore. This includes\n",
    "\n",
    "-   description of the observations in the data set,\n",
    "-   description of how the data was originally collected (not how you found the data but how the original curator of the data collected it).\n",
    "\n",
    "Where did the dataset come from? How was it collected? Why was it collected? Why were those variables included in the dataset? What units are those variables? How often was the data collected, and why?\n",
    "\n",
    "- Dataset: https://perso.telecom-paristech.fr/eagan/class/igr204/datasets/SpeedDating.csv\n",
    "\n",
    "We chose this specific dataset because we want to work on an existing dataset, which can answer our research question in the best possible way and provide qualitatively as well as quantitatively robust data. Also, we chose this dataset as our favorite, because it covers the topic that excites us the most.\n",
    "\n",
    "The dataset was collected in one survey which lasted over the years from 2002 until 2004. The data was collected once with a significant number of observations, because the researcher did not want any possible duplications.\n",
    "\n",
    "Speed dating data with over 8,000 observations of matches and non-matches, with answers to survey questions about how people rate themselves and how they rate others on several dimensions.\n",
    "characterisitcs\n",
    "\n",
    "- 195 Features\n",
    "- 8378 Observations\n",
    "\n",
    "Possible dependent variable: match\n",
    "\n"
   ]
  },
  {
   "cell_type": "markdown",
   "metadata": {},
   "source": [
    "\n",
    "## Analysis approach\n",
    "\n",
    "In this section, you will provide a brief overview of your analysis approach. This includes:\n",
    "\n",
    "-   Description of the response variable.\n",
    "-   Visualization and summary statistics for the response variable.\n",
    "-   List of variables that will be considered as predictors\n",
    "-   Your model type (what kind of model(s) will you use ... e.g. linear regression)"
   ]
  },
  {
   "cell_type": "markdown",
   "metadata": {},
   "source": [
    "## Data dictionary\n",
    "\n",
    "*Create a data dictionary for all the variables in your data set. You may fill out the data description table or create your own table with Pandas:*\n",
    "\n",
    "<br>\n",
    "\n",
    "\n",
    "| Name  |   Description\t| Role   \t| Type   \t|  Format \t|\n",
    "|---\t|---\t        |---    \t|---\t    |---\t|\n",
    "|   \t|   \t        |   \t    |   \t    |   \t|\n",
    "|   \t|   \t        |   \t    |   \t    |   \t|\n",
    "|   \t|   \t        |   \t    |   \t    |   \t|\n",
    "\n",
    "\n",
    "<br>\n",
    "\n",
    "- `Role`: response, predictor, ID (ID columns are not used in a model but can help to better understand the data)\n",
    "\n",
    "- `Type`: nominal, ordinal or numeric\n",
    "\n",
    "- `Format`: int, float, string, category, date or object"
   ]
  }
 ],
 "metadata": {
  "kernelspec": {
   "display_name": "stats",
   "language": "python",
   "name": "python3"
  },
  "language_info": {
   "name": "python",
   "version": "3.9.15 | packaged by conda-forge | (main, Nov 22 2022, 08:39:05) [MSC v.1929 64 bit (AMD64)]"
  },
  "orig_nbformat": 4,
  "vscode": {
   "interpreter": {
    "hash": "dc0716a7aafe30beb9adeaa8e4efc396a1118412dcddcb656d8db95aedf93494"
   }
  }
 },
 "nbformat": 4,
 "nbformat_minor": 2
}
