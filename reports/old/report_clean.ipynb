{
 "cells": [
  {
   "cell_type": "markdown",
   "metadata": {},
   "source": [
    "# Report"
   ]
  },
  {
   "cell_type": "markdown",
   "metadata": {},
   "source": [
    "## Introduction and data"
   ]
  },
  {
   "attachments": {},
   "cell_type": "markdown",
   "metadata": {},
   "source": [
    "> REMOVE THE FOLLOWING TEXT\n",
    "\n",
    "This section includes an introduction to the project motivation, data, and research question.\n",
    "Describe the data and definitions of key variables.\n",
    "\n",
    "It should also include some exploratory data analysis.\n",
    "\n",
    "All of the EDA won't fit in the paper, so focus on the EDA for the response variable and a few other interesting variables and relationships.\n",
    "\n",
    "In the last 30 years, the dating approach has changed and has become increasingly difficult. The willingness to date has decreased, dating is too expensive and time consuming, we have too many (perceived) options to date someone and we struggle because of accepting too easily negative sex stereotypes. In the 19th century, a custom in the United States called New Year’s Calling, was that on New Year's Day many young, single women would hold an Open House (a party or reception during which a person's home is open to visitors) on 1 January where they would invite eligible bachelors, both friends and strangers, to stop by for a brief (no more than 10–15-minute) visit. This custom was established with the term SpeedDating as a registered trademark by Aish HaTorah, who began hosting SpeedDating events in 1998. \n",
    "\n",
    "10 years later, Fisman et al. conducted a survey regarding speed dating habits and collected 8,000 observations during his 2 – year observation in his paper Gender Differences in Mate Selection: Evidence from a Speed Dating Experiment. Because speed dating has become more and more interesting in the last few years and also through Corona a completely new dating approach has emerged, we wanted to analyse this dataset with the following questions in mind:\n",
    "\n",
    "- **What are the most effective personal characteristics to achieve a match in opposite sex speed dating?**\n",
    "  - A match may be a high like value (1 - 10, regression) or a positive match (1 or 0, classification)\n",
    "-   **What type of persons have the best chances to achieve a match regarding their characteristics?**\n",
    "\n",
    "To answer our research question, we defined the following sub-questions to strengthen our main research question:\n",
    "\n",
    "-  **Do specific characteristics affect the match selection of the survey participants?**\n",
    "-  **Do these specific characteristics occur in both sexes?**\n",
    "-  **What type of persons participate in speed dating events?**\n",
    "-  **After three weeks, how many contacts did each type of person have?**\n",
    "-  **Is there a significant difference between the number of men calling women or women calling men after three weeks?**\n",
    "\n",
    "\n",
    "The following hypotheses support our research question:\n",
    "\n",
    "Null hypothesis: \n",
    "-   **There is no affection of having specific characteristics regarding match selection of the survey participants**\n",
    "-   **There is no correlation between shared interests, attributes and getting a match**\n",
    "\n",
    "Hypotheses:\n",
    "-   **Survey participants who both have the specific characteristics same race and opposite gender tend to achieve more matches**\n",
    "-   **Survey participants with a higher income tend to achieve more matches than survey participants with a lower income**\n",
    "-   **Achieving matches because of having the same specific characteristics occur in both sexes**\n",
    "-   **Three weeks after the event, males called women more often**\n",
    "\n",
    "Our dataset was pretty helpful in answering this and more questions, as there were a lot of helpful features:\n",
    "\n",
    "We want to answer our research questions in 5 steps:\n",
    "\n",
    "- Step 1 Importing the required libraries\n",
    "- Step 2 Cleaning the dataset\n",
    "- Step 3 Analyzing the dataset\n",
    "- Step 4 Preparing the model\n",
    "- Step 5 Analyzing the model\n",
    "\n",
    "The main, effective variables we want to look at to answer our research questions are 'Match' (as our predictor variable for the classification) including the personal attributes/features and 'Like' for the regression.\n",
    "For all variables, we use descriptive terms in order to recognize them better.\n",
    "First, we want to analyze the importance of each personal attributes for achieving a match (classification) on the one hand and for the strength of a like (regression) on the other hand."
   ]
  },
  {
   "cell_type": "markdown",
   "metadata": {},
   "source": [
    "## Methodology"
   ]
  },
  {
   "attachments": {},
   "cell_type": "markdown",
   "metadata": {},
   "source": [
    "After cleaning our dataset and our initial exploratory data analysis, we can see the relationships between the respective outcome and possible predictors for each of the classification and regression.\n",
    "\n",
    "\n",
    "\n",
    "For **Classification** we use the following models:\n",
    "\n",
    "- Logistic Regression\n",
    "\n",
    "The considered metrics for Logicstic Regression are:\n",
    "\n",
    "- Confusion Matrix\n",
    "- Precision, Recall, Accuracy and F1 scores\n",
    "- Precision-Recall curve\n",
    "- ROC curve and AUC value\n",
    "\n",
    "For **Regression** we use the following models:\n",
    "\n",
    "- Linear Regression\n",
    "- Multiple Regression \n",
    "- Lasso Regression\n",
    "- XGBOOST Regression Models\n",
    "\n",
    "The considered metrics for regression are:\n",
    "\n",
    "- R2-Score\n",
    "- Mean squared error\n",
    "- Mean Absolute Error\n",
    "- Root Mean Squared Error\n",
    "\n",
    "**Model selection process for Classification:**\n",
    "Besides logistic regression there are other types of classification algorithms like Naïve Bayes, Stochastic Gradient Descent, K-Nearest Neighbours, Decision Tree, Random Forest and Support Vector Machine. Since we need a machine learning algorithm which is most useful for understanding the influence of several independent variables on our single outcome variable, we use the Logistic Regression, which is modelling the probabilities describing the possible outcomes of a single trial.\n",
    "\n",
    "For the Logistic Regression, we use the LogisticRegressionCV model. On default, this model includes a 5 cross fold validation with Stratified K-Folds so there is no need to do further training and validation.<br>\n",
    "See the [Scikit-Learn documentation](https://scikit-learn.org/stable/modules/generated/sklearn.linear_model.LogisticRegressionCV.html)\n",
    "\n",
    "\n",
    "**Model selection process for Regression:**\n",
    "For the Regression analysis we need a type of predictive modelling which investigates the relationship between a dependent (target) and independent variable(s) (predictor). This technique is used for forecasting, time series modelling and finding the cause-effect relationship between the variables.\n",
    "\n",
    "Evaluating the model accuracy is an essential part of the process in evaluating the performance of machine learning models to describe how well the model is performing in its predictions. The basic concept of accuracy evaluation is to compare the original target with the predicted one according to certain metrics. We use different models and interpret their values. We start by using linear regression in order to model the relationship between the features and the target variable. Second, we use Lasso regression as a type of linear regression that uses shrinkage. Shrinkage is where data values are shrunk towards a central point, like the mean. Like Ridge regression, Lasso is well-suited for models showing high levels of multicollinearity or when you want to automate certain parts of model selection, like variable selection/parameter elimination. XGBoost  (Extreme Gradient Boosting) is used as an optimized distributed gradient boosting library and for supervised Machine Learning problems. XGBoost belongs to a family of boosting algorithms that convert weak learners into strong learners."
   ]
  },
  {
   "cell_type": "markdown",
   "metadata": {},
   "source": [
    "## Results"
   ]
  },
  {
   "cell_type": "markdown",
   "metadata": {},
   "source": [
    "> REMOVE THE FOLLOWING TEXT\n",
    "\n",
    "This is where you will output the final model with any relevant model fit statistics.\n",
    "\n",
    "Describe the key results from the model.\n",
    "The goal is not to interpret every single variable in the model but rather to show that you are proficient in using the model output to address the research questions, using the interpretations to support your conclusions.\n",
    "\n",
    "Focus on the variables that help you answer the research question and that provide relevant context for the reader.\n"
   ]
  },
  {
   "attachments": {},
   "cell_type": "markdown",
   "metadata": {},
   "source": [
    "Comparison of all models for MAE, RMSE, MSE and R2 Value. \n",
    "<br>\n",
    "It can be clearly seen, that almost no model behaves differently and all produce roughtly the same error\n",
    "\n",
    "TODO <br>\n",
    "In this report, we used 4 regression algorithms and some key facts associated with each technique. The analysis provides evidence that:\n",
    "\n",
    "XGBoost algorithm provided the best results, followed by the Random Forest algorithm.\n",
    "Linear, Lasso and Ridge regression algorithms’ results were quite close.\n",
    "After cross validation, there was a huge increase in the accuracy of the Lasso and Ridge regressions.\n",
    "Using only the most important 4 features (out of 8) resulted in a little decrease in the accuracy of the results, with a high potential in saving time for large datasets.\n",
    "<br>TODO ENDE\n"
   ]
  },
  {
   "cell_type": "markdown",
   "metadata": {},
   "source": [
    "## Discussion + Conclusion\n"
   ]
  },
  {
   "attachments": {},
   "cell_type": "markdown",
   "metadata": {},
   "source": [
    "> REMOVE THE FOLLOWING TEXT\n",
    "\n",
    "In this section you'll include a summary of what you have learned about your research question along with statistical arguments supporting your conclusions.\n",
    "In addition, discuss the limitations of your analysis and provide suggestions on ways the analysis could be improved.\n",
    "Any potential issues pertaining to the reliability and validity of your data and appropriateness of the statistical analysis should also be discussed here.\n",
    "Lastly, this section will include ideas for future work.\n",
    "\n",
    "With the data from this survey and our used statistical methods and classification, we could answer the following research questions:\n",
    "\n",
    "\n",
    "-   **What are the most effective characteristics to achieve a match in opposite sex speed dating?**\n",
    "    - According to our model parameters the most important features for a positive correlation are attractivity, same interests, humor and that the other person also shows some interest. On the other hand there is a negative correlation for beeing the same gender and race and being (maybe too) ambitious and sincere.\n",
    "-   **What type of persons have the best chances to achieve a match regarding their characteristics?**\n",
    "    -   People that have a rating of around 8 for all personal attributes, especially attractivity and humor.\n",
    "\n",
    "To answer our research question, we defined the following sub-questions to strengthen our main research question:\n",
    "\n",
    "-  **Do specific characteristics affect the match selection of the survey participants?**\n",
    "   - Yes, see above.\n",
    "-  **Do these specific characteristics occur in both sexes?**\n",
    "   - Yes, there is no significant difference.\n",
    "-  **What type of persons participate in speed dating events?**\n",
    "   - The speed dating event took place at an university, but besides that, there are no significant differences in the characteristics to form types.\n",
    "-  **After three weeks, how many contacts did each type of person have?**\n",
    "   - We can't distinguish different types of persons, but overall 2/3 of the participants had at least one call.\n",
    "-  **Is there a significant difference between the number of men calling women or women calling men after three weeks?**\n",
    "   - Yes, men are calling women four times more often.\n",
    "\n",
    "\n",
    "\n",
    "The following hypotheses support our research question:\n",
    "\n",
    "Null hypothesis: \n",
    "-   **There is no affection of having specific characteristics regarding match selection of the survey participants**\n",
    "    - This does not hold true, the characteristics are described above.\n",
    "-   **There is no correlation between shared interests, attributes and getting a match**\n",
    "    - This does not hold true, the characteristics are described above.\n",
    "\n",
    "Hypotheses:\n",
    "-   **Survey participants who both have the specific characteristics same race and opposite gender tend to achieve more matches**\n",
    "    - We didn't investigate that in detail, but we saw a rather negative correlation between same race and match.\n",
    "-   **Survey participants with a higher income tend to achieve more matches than survey participants with a lower income**\n",
    "    - We didn't investigate that in detail, as the income wasn't an important feature for our model.\n",
    "-   **Achieving matches because of having the same specific characteristics occur in both sexes**\n",
    "    - Yes, this hypotheses is true.\n",
    "-   **Three weeks after the event, males called women more often**\n",
    "    - Yes, by the factor of four.\n",
    "\n",
    "\n",
    "With our report, we contribute to a better understanding of the topic of speed dating and the preferences of the participants. Our paper serves as an important starting point in understanding the preferences underlying the search for a mate. <br> Prior\n",
    "work has shown how to achieve matches, but in this report we compare these needed features and give an example, which attributes a speed dating participant need to have in order to achieve matches and likes. In this report, we use an explorative data analysis approach that allows us to directly observe individual decisions.\n",
    "There are a number of ways that our work may be improved. Due to the limitation of the data collection method - a local survey in only one country, we have a very specific  distribution of races throughout the speed dating participants. Also, in terms of the validity of our dataset, gender politics have changed since 2008, and we have largely ignored gender diversity and focused only on men and women, and even those two genders don't really show a significant difference in the data. <br>\n",
    "Most notably, a similar methodology could be employed on a newer set of data, because our data set is more than 10 years old."
   ]
  }
 ],
 "metadata": {
  "kernelspec": {
   "display_name": "stats",
   "language": "python",
   "name": "python3"
  },
  "language_info": {
   "name": "python",
   "version": "3.9.15 | packaged by conda-forge | (main, Nov 22 2022, 08:39:05) [MSC v.1929 64 bit (AMD64)]"
  },
  "orig_nbformat": 4,
  "vscode": {
   "interpreter": {
    "hash": "90518b7fe98ed5dbdd24bfe4b9247deb7bd51018cf495af8c2ee868b660286ea"
   }
  }
 },
 "nbformat": 4,
 "nbformat_minor": 2
}
