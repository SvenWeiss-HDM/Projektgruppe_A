{
 "cells": [
  {
   "attachments": {},
   "cell_type": "markdown",
   "metadata": {},
   "source": [
    "### Peer review team\n",
    "\n",
    "- Peer review by: Group A\n",
    "\n",
    "- Names of team members that participated in this review: Alexander Benz, Lukas Zaiser, Sven Weiß\n",
    "\n",
    "### Goal of the project\n",
    "\n",
    "- Give answers to the following research questions:\n",
    "    -  Does the longer average annual working hours increase labor productivity? (rephrase like :\"is there a correlation between working hours and labor productivity?\")\n",
    "    -  What is the most related factor in improving labor productivity?\n",
    "\n",
    "### Data\n",
    "\n",
    "- Data has:\n",
    "    - 9 Features, one Target Variable\n",
    "    - 66 Observartions\n",
    "\n",
    "- Remarks:\n",
    "    - We feel that the quantity of observations will not suffice (at least 500 Obsevations required) to train the model properly\n",
    "    - No Data Dictionary (seen in proposal, should be in reviewed file)\n",
    "    - Raw data seems to fit time series analysis better than regression (You need to clarify why you only chose year 2017)\n",
    "    - Explain why you took GDP as Productivity Factor\n",
    "\n",
    "\n",
    "### Approach, tools and methods\n",
    "\n",
    "- Describe the approaches, tools, and methods that will be used.\n",
    "\n",
    "    - Set Continent as categorial (why not country?)\n",
    "    - Dropped NaN values for the complete dataset\n",
    "        - Went from 66 to 47 observations\n",
    "    - Did one singular regression for first research question\n",
    "    - Where is the null hypothesis?\n",
    "    - Scatterplot of Average annual working hours per worker and Productivity clearly displays a negative correlation\n",
    "    - Did use Linear Regression and KNN as models\n",
    "    - Cross val score for all models looks really unstable\n",
    "    - MSE and MAE looks good\n",
    "    - Relationships are not linear in all cases, some (esp. life statisfaction and productivity are definetely not, should use splines)\n",
    "    - Difference between mse and rmse seem to be way off\n",
    "\n",
    "\n",
    "\n",
    "\n",
    "### Lack of clarity\n",
    "\n",
    "- OLS and the regression model have nothing to do with each other --> explain what you do with the statsmodels better\n",
    "- how can a variable with 37 observations be statistically significant?\n",
    "- you check for multicolinearity and do nothing with it ?\n",
    "\n",
    "\n",
    "### Possible improvements\n",
    "\n",
    "- Provide constructive feedback on how the team might be able to improve their project.Make sure your feedback includes at least one comment on the modeling aspect of the project, but do feel free to comment on aspects beyond the modeling.\n",
    "\n",
    "### Presentation\n",
    "\n",
    "- What aspect of this project are you most interested in and would like to see highlighted in the final presentation?\n",
    "\n",
    "### Organization\n",
    "\n",
    "- Provide constructive feedback on any issues with file and/or code organization.\n",
    "\n",
    "### Further comments\n",
    "\n",
    "- Motivation seems lackluster\n",
    "- Be carefull when using Productivity, explain why the GDP matters as a Productivty Indicator to set in relation with hours. also make sure sure that a high GDP does not influence the productivity by a lot. \n",
    "- How is life satisfaction measured ? Why did you choose life satisfaction? How can you be sure that the data is collected correctly?"
   ]
  }
 ],
 "metadata": {
  "kernelspec": {
   "display_name": "Python 3",
   "language": "python",
   "name": "python3"
  },
  "language_info": {
   "name": "python",
   "version": "3.10.9 (tags/v3.10.9:1dd9be6, Dec  6 2022, 20:01:21) [MSC v.1934 64 bit (AMD64)]"
  },
  "orig_nbformat": 4,
  "vscode": {
   "interpreter": {
    "hash": "4d62038eaa19d14f874909d89116ba4f26267702cc83ea840e6653db2c762f59"
   }
  }
 },
 "nbformat": 4,
 "nbformat_minor": 2
}
