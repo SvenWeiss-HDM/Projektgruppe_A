{
 "cells": [
  {
   "cell_type": "markdown",
   "metadata": {},
   "source": [
    "---\n",
    "title: \"Presentations\"\n",
    "subtitle: \"group A\"\n",
    "format:\n",
    "  revealjs: \n",
    "    slide-number: true\n",
    "    chalkboard: \n",
    "      buttons: false\n",
    "    preview-links: auto\n",
    "    logo: images/quarto.png\n",
    "    css: styles.css\n",
    "    footer: <https://quarto.org>\n",
    "resources:\n",
    "  - demo.pdf\n",
    "---"
   ]
  },
  {
   "cell_type": "markdown",
   "metadata": {},
   "source": [
    "# Report"
   ]
  },
  {
   "cell_type": "code",
   "execution_count": null,
   "metadata": {},
   "outputs": [],
   "source": [
    "#| echo: false\n",
    "\n",
    "# Basics\n",
    "import numpy as np\n",
    "import pandas as pd\n",
    "\n",
    "# Model selection\n",
    "from sklearn.model_selection import train_test_split, cross_val_score, GridSearchCV\n",
    "\n",
    "# Feature selection\n",
    "from sklearn.feature_selection import SelectFromModel, SelectKBest, mutual_info_regression, f_regression\n",
    "\n",
    "# Models\n",
    "from sklearn.linear_model import LogisticRegressionCV, Lasso, LassoCV, LinearRegression\n",
    "import statsmodels.api as sm\n",
    "from scipy.stats import ttest_ind\n",
    "from scipy import stats\n",
    "#import xgboost as xg\n",
    "\n",
    "# Metrics\n",
    "from sklearn.metrics import ConfusionMatrixDisplay, classification_report, RocCurveDisplay, roc_auc_score\n",
    "from sklearn.metrics import make_scorer, precision_recall_curve, PrecisionRecallDisplay\n",
    "from sklearn.metrics import r2_score, mean_squared_error, mean_absolute_error\n",
    "\n",
    "# Others\n",
    "from sklearn.inspection import permutation_importance\n",
    "from sklearn.pipeline import Pipeline\n",
    "from sklearn.preprocessing import StandardScaler\n",
    "import pickle\n",
    "\n",
    "# Visualization\n",
    "import altair as alt\n",
    "import seaborn as sns\n",
    "import matplotlib.pyplot as plt\n",
    "\n",
    "alt.data_transformers.disable_max_rows()\n",
    "%matplotlib inline"
   ]
  },
  {
   "cell_type": "code",
   "execution_count": null,
   "metadata": {},
   "outputs": [],
   "source": [
    "#| echo: false\n",
    " \n",
    "folder = '../models/'\n",
    "regmodelname = 'clf_xgboost_20221222.pkl'\n",
    "classmodelname = 'clf_match_20221222.pkl'\n",
    "\n",
    "# TODO: install xgboost\n",
    "#with open(folder + regmodelname, 'rb') as file:\n",
    "#    regmodel = pickle.load(file)\n",
    "#with open(folder + classmodelname, 'rb') as file:\n",
    "#    classmodel = pickle.load(file)\n",
    "\n",
    "df = pd.read_csv(\"../data/interim/TransformedData\", delimiter=\",\", index_col=0)\n",
    "\n",
    "cat_vars = [\n",
    "    \"gender\",\n",
    "    \"match\",\n",
    "    \"samerace\",\n",
    "    \"race_o\",\n",
    "    \"race\",\n",
    "]\n",
    "\n",
    "float_vars = [\n",
    "    \"int_corr\"\n",
    "]\n",
    "\n",
    "int_vars = [   \n",
    "    \"age\",\n",
    "    \"age_o\",\n",
    "    \"imprace\",\n",
    "    \"attr\",\n",
    "    \"sinc\",\n",
    "    \"intel\",\n",
    "    \"fun\",\n",
    "    \"amb\",\n",
    "    \"shar\",\n",
    "    \"like\",\n",
    "    \"prob\",\n",
    "    \"order\",\n",
    "    \"you_call\",\n",
    "    \"them_cal\"\n",
    "]\n",
    "\n",
    "df[cat_vars]=df[cat_vars].astype(\"category\",copy=False)\n",
    "df[float_vars]=df[float_vars].astype(\"float\",copy=False)\n",
    "\n",
    "df['calls'] = df['you_call'] + df['them_cal']\n",
    "\n",
    "df = df.rename(columns=\n",
    "{\n",
    "    \"match\": \"Match\",\n",
    "    \"fun\": \"Humor\",\n",
    "    \"attr\": \"Attractivity\",\n",
    "    \"prob\": \"Probability\",\n",
    "    \"intel\": \"Intelligence\",\n",
    "    \"sinc\": \"Sincerety\",\n",
    "    \"amb\": \"Ambition\",\n",
    "    \"shar\": \"Shared_interests\",\n",
    "    \"gender\": \"Gender\",\n",
    "    \"samerace\": \"Same_race\",\n",
    "    \"race\": \"Race\",\n",
    "    \"race_o\": \"Race_opposite\",\n",
    "    \"calls\": \"Calls\",\n",
    "    \"age\": \"Age\",\n",
    "    \"age_o\": \"Age_opposite\",\n",
    "    \"imprace\": \"Importance_same_race\",\n",
    "    \"order\": \"Order\",\n",
    "    \"like\": \"Like\",\n",
    "    \"int_corr\": \"Interests_correlation\",\n",
    "})"
   ]
  },
  {
   "cell_type": "code",
   "execution_count": null,
   "metadata": {},
   "outputs": [],
   "source": [
    "#| echo: false\n",
    "\n",
    "# TODO: clean\n",
    "\n",
    "cat_features = ['Gender', 'Same_race', 'Race', 'Race_opposite']\n",
    "personal_features = ['Humor', 'Shared_interests', 'Attractivity', 'Intelligence', 'Sincerety', 'Ambition']\n",
    "num_features = ['Probability', 'Calls', 'Age', 'Age_opposite', 'Order', 'Interests_correlation', 'Importance_same_race']\n",
    "\n",
    "variables_classification = cat_features + personal_features + num_features\n",
    "\n",
    "variables_regression = [\n",
    "    'Attractivity', 'Sincerety', 'Intelligence', 'Humor', 'Ambition', 'Shared_interests', 'Probability', 'Like'\n",
    "]\n",
    "\n",
    "y_label_r = 'Like'\n",
    "X_r = df[variables_regression]\n",
    "y_r = df[y_label_r]\n",
    "\n",
    "y_label_c = 'Match'\n",
    "X_c = df[variables_classification]\n",
    "y_c = df[y_label_c]\n",
    "\n",
    "print('\\n--- Regression ---')\n",
    "print(X_r.info())\n",
    "print('\\n--- Classification ---')\n",
    "print(X_c.info())"
   ]
  },
  {
   "cell_type": "markdown",
   "metadata": {},
   "source": [
    "## Introduction and data"
   ]
  },
  {
   "cell_type": "markdown",
   "metadata": {},
   "source": [
    "> REMOVE THE FOLLOWING TEXT\n",
    "\n",
    "This section includes an introduction to the project motivation, data, and research question.\n",
    "Describe the data and definitions of key variables.\n",
    "\n",
    "It should also include some exploratory data analysis.\n",
    "\n",
    "All of the EDA won't fit in the paper, so focus on the EDA for the response variable and a few other interesting variables and relationships."
   ]
  },
  {
   "attachments": {},
   "cell_type": "markdown",
   "metadata": {},
   "source": [
    "Platzhalter Sven"
   ]
  },
  {
   "attachments": {},
   "cell_type": "markdown",
   "metadata": {},
   "source": [
    "## Introduction \n",
    "\n",
    "In the last 30 years, the dating approach has changed and has become increasingly difficult. The willingness to date has decreased, dating is too expensive and time consuming, we have too many (perceived) options to date someone and we struggle because of accepting too easily negative sex stereotypes. In the 19th century, a custom in the United States called New Year’s Calling, was that on New Year's Day many young, single women would hold an Open House (a party or reception during which a person's home is open to visitors) on 1 January where they would invite eligible bachelors, both friends and strangers, to stop by for a brief (no more than 10–15-minute) visit. This custom was established with the term SpeedDating as a registered trademark by Aish HaTorah, who began hosting SpeedDating events in 1998. \n",
    "\n",
    "10 years later, Fisman et al. conducted a survey regarding speed dating habits and collected 8,000 observations during his 2 – year observation in his paper Gender Differences in Mate Selection: Evidence from a Speed Dating Experiment. Because speed dating has become more and more interesting in the last few years and also through Corona a completely new dating approach has emerged, we wanted to analyse this dataset with the following questions in mind:\n",
    "\n",
    "- **What are the most effective characteristics to achieve a match in opposite sex speed dating?**,\n",
    "\n",
    "\n",
    "Our dataset was pretty helpful in answering this and more questions, as there were a lot of helpful features:\n",
    "\n",
    "\n",
    "## Descriptive terms for our used variables \n",
    "\n",
    "| Name  |Description                                                                                                         | Descriptive term      | \n",
    "|-------|---------------------------------------------------------------------------------------------------------------------|-----------|\n",
    "| calls   | Event of a participant conducting a \"you_call\" or \"them_cal\" with the other party                                 | Calls of participants |\n",
    "| attr  | Rating of the attribute for this person from 1 - 10.                                                                | Attractivity of speed dating participant | \n",
    "| sinc  | Rating of the attribute for this person from 1 - 10.                                                                | Sincerety of speed dating participant | \n",
    "| intel | Rating of the attribute for this person from 1 - 10.                                                                | Intelligence of speed dating participant  | \n",
    "| fun   | Rating of the attribute for this person from 1 - 10.                                                                | Humor of speed dating participant | \n",
    "| amb   | Rating of the attribute for this person from 1 - 10.                                                                | Ambition of speed dating participant | \n",
    "| shar  | Rating of the attribute for this person from 1 - 10.                                                                | Shared Interests/Hobbies of the speed dating participant to the other party | \n",
    "| like  | Overall, how much do oyu like this person. 1 (don't like at all) to 10 (like a lot)                                 | Strength of like of speed dating participant to the other party | \n",
    "| prob  | How probable do you think it is that this person will say 'yes' for you? 1 (not probable) to 10 (extemely probable) | Probability of speed dating participant to like the other party | \n",
    "| met   | Have you met this person before? (1 = yes, 2 = no)                                                                  | Meeting indicator of participants | \n",
    "| gender   | Gender of the person. Female = 0, Male = 1                                                                       | Gender of speed dating participant |\n",
    "| order    | The number of date that night when met partner                                                                   | Order of date of speed dating participant and the other party during event  |\n",
    "| match    | 1 = yes, 0 = no                                                                                                  | Match of the speed dating participant and the other party  |\n",
    "| int_corr | Correlation between participant's and partner's ratings of interests in Time 1                                   | Correlation of the speed dating participant and the other party |\n",
    "| samerace | Participant and the partner were the same race. 1 =  yes, 0 = no                                                 | Indicates, if the speed dating participant and the other party have the same race  |\n",
    "| age       | Age of the person                                                                                               | Age of speed dating participant |\n",
    "| age_o    | Age of partner                                                                                                   | Age of other party |\n",
    "| race      | Race of the attendee<br/>1 = Black/African American<br/>2 = European/Caucasian-American<br/>3 = Latino/Hispanic American<br/>4 = Asian/Pacific Islander/Asian-American<br/>5 = Native American<br/>6 = Other                                                                                                           | Race of speed dating participant |\n",
    "| race_o   | Race of partner                                                                                                     | Race of other party |\n",
    "| imprace   | How important is it that a person you date be of the same racial/ethic background? (1 - 10)                        | Importance of the other party having the same race as the speed dating participant |\n",
    "| intel_o   | Intelligent. Rating by partner the night of the event from 1 (awful) to 10 (great)                                 | Intelligence of the other party |\n",
    "| sinc_o    | Sincere. Rating by partner the night of the event from 1 (awful) to 10 (great)                                     | Sincerety of the other party |\n",
    "| like_o   | Overall, how much do oyu like this person. 1 (don't like at all) to 10 (like a lot)                        | Strength of like of to the other party |\n",
    "| prob_o   | How probable do you think it is that this person will say 'yes' for you? 1 (not probable) to 10 (extemely probable)                        | Probability of the other party to like speed dating participant |\n",
    "| fun_o   | Fun. Rating by partner the night of the event from 1 (awful) to 10 (great)                        | Humor of the other party |\n",
    "| satis_2   | Generic Id                        | Generic Id  |\n",
    "| amb_o   | Ambitious. Rating by partner the night of the event from 1 (awful) to 10 (great)                        | Ambition of the other party |\n",
    "| shar_o   | Shared Interests/Hobbies. Rating by partner the night of the event from 1 (awful) to 10 (great)                          | Shared Interests/Hobbies of the other party to speed dating participant |\n",
    "| attr_o   | Attractive. Rating by partner the night of the event from 1 (awful) to 10 (great)                        | Attractivity of the other party |\n",
    "| met_o   | Have you met this person before? (1 = yes, 2 = no)                         | Meeting indicator of the other party  |\n",
    "| exphappy   | Overall, on a scale of 1-10, how happy do you expect to be with the people you meet during the speed-dating event?                        | Expected Happiness of meeting people |\n",
    "| pid   | partner's iid number                       | partner's iid number |\n"
   ]
  },
  {
   "attachments": {},
   "cell_type": "markdown",
   "metadata": {},
   "source": [
    "Platzhalter Alex"
   ]
  },
  {
   "cell_type": "code",
   "execution_count": null,
   "metadata": {},
   "outputs": [],
   "source": [
    "# Platzhalter Sven"
   ]
  },
  {
   "cell_type": "code",
   "execution_count": null,
   "metadata": {},
   "outputs": [],
   "source": [
    "# TODO: Describe attribute importance and first impression\n",
    "X_train_c, X_test_c, y_train_c, y_test_c = train_test_split(X_c, y_c, \n",
    "                                                    test_size=0.2, \n",
    "                                                    shuffle=True,\n",
    "                                                    random_state=42)\n",
    "\n",
    "df_train_c = pd.DataFrame(X_train_c).copy()\n",
    "df_train_c[y_label_c] = pd.DataFrame(y_train_c)\n",
    "\n",
    "c1 = alt.Chart(df_train_c).mark_circle().encode(\n",
    "    alt.X(alt.repeat(\"column\"), type='quantitative'),\n",
    "    alt.Y(y_label_c),\n",
    "    alt.Size('count()'),\n",
    "    alt.Color(y_label_c),\n",
    "    tooltip=['count()']\n",
    ").properties(\n",
    "    width=250,\n",
    "    height=150\n",
    ").repeat(\n",
    "    column=personal_features\n",
    ").interactive().properties(title=\"Attribute importance to get a match\")\n",
    "\n",
    "# Describe that we have an unbalanced dataset\n",
    "c2 = alt.Chart(df_train_c).mark_bar().encode(\n",
    "    alt.X(y_label_c),\n",
    "    alt.Y('count()'),\n",
    "    alt.Color(y_label_c),\n",
    "    tooltip = ['count()']\n",
    ").properties(\n",
    "    width=250,\n",
    "    height=150\n",
    ").interactive().properties(title=\"Match and no-match comparison\")\n",
    "\n",
    "c1 & c2"
   ]
  },
  {
   "cell_type": "code",
   "execution_count": null,
   "metadata": {},
   "outputs": [],
   "source": [
    "# Platzhalter Alex"
   ]
  },
  {
   "cell_type": "code",
   "execution_count": null,
   "metadata": {},
   "outputs": [],
   "source": [
    "g = sns.displot(\n",
    "    data=df[variables_classification].isna().melt(value_name=\"NaN\"),\n",
    "    y=\"variable\",\n",
    "    hue=\"NaN\",\n",
    "    multiple=\"fill\"\n",
    ")\n",
    "g.set_axis_labels(\"Share\", \"Variables\")\n",
    "plt.title('Classification Data --NaN share of the observations per variable')\n",
    "g = sns.displot(\n",
    "    data=df[variables_regression].isna().melt(value_name=\"NaN\"),\n",
    "    y=\"variable\",\n",
    "    hue=\"NaN\",\n",
    "    multiple=\"fill\",\n",
    ")\n",
    "g.set_axis_labels(\"Share\", \"Variables\")\n",
    "plt.title('Regression Data -- NaN share of the observations per variable ')\n"
   ]
  },
  {
   "cell_type": "code",
   "execution_count": null,
   "metadata": {},
   "outputs": [],
   "source": [
    "sns.pairplot(df[variables_regression], y_vars='Like').set(title='Regression Features')"
   ]
  },
  {
   "cell_type": "code",
   "execution_count": null,
   "metadata": {},
   "outputs": [],
   "source": [
    "sns.pairplot(df_train_c,hue=\"Match\",corner=True)"
   ]
  },
  {
   "cell_type": "markdown",
   "metadata": {},
   "source": [
    "## Methodology"
   ]
  },
  {
   "attachments": {},
   "cell_type": "markdown",
   "metadata": {},
   "source": [
    "Platzhalter Sven"
   ]
  },
  {
   "attachments": {},
   "cell_type": "markdown",
   "metadata": {},
   "source": [
    "For the Logistic Regression, we use the LogisticRegressionCV model. On default, this model includes a 5 cross fold validation with Stratified K-Folds so there is no need to do further training and validation <br>\n",
    "See: https://scikit-learn.org/stable/modules/generated/sklearn.linear_model.LogisticRegressionCV.html"
   ]
  },
  {
   "attachments": {},
   "cell_type": "markdown",
   "metadata": {},
   "source": [
    "Platzhalter Alex"
   ]
  },
  {
   "cell_type": "code",
   "execution_count": null,
   "metadata": {},
   "outputs": [],
   "source": [
    "# Platzhalter Sven"
   ]
  },
  {
   "cell_type": "code",
   "execution_count": null,
   "metadata": {},
   "outputs": [],
   "source": [
    "clf = LogisticRegressionCV()\n",
    "clf.fit(X_train_c, y_train_c)\n",
    "y_score_c = clf.predict_proba(X_test_c)[:, 1]\n",
    "\n",
    "# TODO: explain coefficients\n",
    "res = pd.DataFrame(np.row_stack(list(X_test_c.columns)))\n",
    "res = res.assign(coef=clf.coef_.tolist()[0])\n",
    "res.sort_values('coef',  ascending=False,inplace=True)\n",
    "sns.barplot(res,y=0,x='coef').set(title=\"Coefficient per Attribute\")\n",
    "\n",
    "# TODO: explain that the model sucks\n",
    "ConfusionMatrixDisplay.from_estimator(clf, X_test_c, y_test_c)\n",
    "\n",
    "precision, recall, thresholds = precision_recall_curve(y_test_c, y_score_c)\n",
    "disp = PrecisionRecallDisplay(precision=precision, recall=recall, estimator_name='LogisticRegressionCV')\n",
    "disp.plot()\n",
    "\n",
    "# TODO: explain to select even numbers\n",
    "df_new = pd.concat([df[df[y_label_c] == 0][:1000], df[df[y_label_c] == 1][:1000]])\n",
    "\n",
    "alt.Chart(df_new).mark_bar().encode(\n",
    "    alt.X(y_label_c),\n",
    "    alt.Y('count()'),\n",
    "    alt.Color(y_label_c),\n",
    "    tooltip = ['count()']\n",
    ").properties(\n",
    "    width=250,\n",
    "    height=150\n",
    ").interactive().properties(title=\"1000 match and no-match data\")\n",
    "\n",
    "# TODO: explain that the model looks a lot better now\n",
    "ConfusionMatrixDisplay.from_estimator(clf, X_test_c, y_test_c)\n",
    "\n",
    "precision, recall, thresholds = precision_recall_curve(y_test_c, y_score_c)\n",
    "disp = PrecisionRecallDisplay(precision=precision, recall=recall, estimator_name='LogisticRegressionCV')\n",
    "disp.plot()"
   ]
  },
  {
   "cell_type": "code",
   "execution_count": null,
   "metadata": {},
   "outputs": [],
   "source": [
    "# Platzhalter Alex"
   ]
  },
  {
   "cell_type": "markdown",
   "metadata": {},
   "source": [
    "> REMOVE THE FOLLOWING TEXT\n",
    "\n",
    "This section includes a brief description of your modeling process.\n",
    "\n",
    "Explain the reasoning for the type of model you're fitting, predictor variables considered for the model.\n",
    "\n",
    "Additionally, show how you arrived at the final model by describing the model selection process, variable transformations (if needed), assessment of conditions and diagnostics, and any other relevant considerations that were part of the model fitting process."
   ]
  },
  {
   "cell_type": "markdown",
   "metadata": {},
   "source": [
    "## Results"
   ]
  },
  {
   "cell_type": "markdown",
   "metadata": {},
   "source": [
    "> REMOVE THE FOLLOWING TEXT\n",
    "\n",
    "This is where you will output the final model with any relevant model fit statistics.\n",
    "\n",
    "Describe the key results from the model.\n",
    "The goal is not to interpret every single variable in the model but rather to show that you are proficient in using the model output to address the research questions, using the interpretations to support your conclusions.\n",
    "\n",
    "Focus on the variables that help you answer the research question and that provide relevant context for the reader.\n"
   ]
  },
  {
   "cell_type": "code",
   "execution_count": null,
   "metadata": {},
   "outputs": [],
   "source": []
  },
  {
   "cell_type": "markdown",
   "metadata": {},
   "source": [
    "## Discussion + Conclusion\n"
   ]
  },
  {
   "cell_type": "markdown",
   "metadata": {},
   "source": [
    "> REMOVE THE FOLLOWING TEXT\n",
    "\n",
    "In this section you'll include a summary of what you have learned about your research question along with statistical arguments supporting your conclusions.\n",
    "In addition, discuss the limitations of your analysis and provide suggestions on ways the analysis could be improved.\n",
    "Any potential issues pertaining to the reliability and validity of your data and appropriateness of the statistical analysis should also be discussed here.\n",
    "Lastly, this section will include ideas for future work."
   ]
  },
  {
   "cell_type": "markdown",
   "metadata": {},
   "source": []
  }
 ],
 "metadata": {
  "kernelspec": {
   "display_name": "stats",
   "language": "python",
   "name": "python3"
  },
  "language_info": {
   "codemirror_mode": {
    "name": "ipython",
    "version": 3
   },
   "file_extension": ".py",
   "mimetype": "text/x-python",
   "name": "python",
   "nbconvert_exporter": "python",
   "pygments_lexer": "ipython3",
   "version": "3.9.15"
  },
  "orig_nbformat": 4,
  "vscode": {
   "interpreter": {
    "hash": "3a0f3ad14519b735d3b531c9de039f00fb93fc5113abea86e8535c5e9fe3fe0f"
   }
  }
 },
 "nbformat": 4,
 "nbformat_minor": 2
}
