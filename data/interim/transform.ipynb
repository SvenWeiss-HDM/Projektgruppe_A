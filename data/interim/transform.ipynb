{
 "cells": [
  {
   "cell_type": "code",
   "execution_count": 1,
   "metadata": {},
   "outputs": [],
   "source": [
    "import pandas as pd\n",
    "import seaborn as sns"
   ]
  },
  {
   "cell_type": "code",
   "execution_count": 2,
   "metadata": {},
   "outputs": [],
   "source": [
    "cat_vars = [\n",
    "    \"gender\", \n",
    "    \"condtn\",\n",
    "    \"match\",\n",
    "    \"samerace\",\n",
    "    \"age_o\",\n",
    "    \"race_o\",\n",
    "    \"dec_o\",\n",
    "    \"met_o\",\n",
    "    \"field_cd\",\n",
    "    \"race\",\n",
    "    \"zipcode\",\n",
    "    \"goal\",\n",
    "    \"date\",\n",
    "    \"go_out\",\n",
    "    \"career_c\",\n",
    "    \"dec\",\n",
    "    \"met\",\n",
    "    \"length\",\n",
    "    \"numdat_2\",\n",
    "    \"date_3\",\n",
    "]\n",
    "\n",
    "float_vars = [\n",
    "    \"int_corr\",\n",
    "    \"pf_o_att\",\n",
    "    \"pf_o_sin\",\n",
    "    \"pf_o_int\",\n",
    "    \"pf_o_fun\",\n",
    "    \"pf_o_amb\",\n",
    "    \"pf_o_sha\",\n",
    "    \"income\",\n",
    "    \"attr1_1\",\n",
    "    \"sinc1_1\",\n",
    "    \"intel1_1\",\n",
    "    \"fun1_1\",\n",
    "    \"amb1_1\",\n",
    "    \"shar1_1\",\n",
    "    \"attr4_1\",\n",
    "    \"sinc4_1\",\n",
    "    \"intel4_1\",\n",
    "    \"fun4_1\",\n",
    "    \"amb4_1\",\n",
    "    \"shar4_1\",\n",
    "    \"attr2_1\",\n",
    "    \"sinc2_1\",\n",
    "    \"intel2_1\",\n",
    "    \"fun2_1\",\n",
    "    \"amb2_1\",\n",
    "    \"shar2_1\"\n",
    "]\n",
    "\n",
    "int_vars = [\n",
    "    \"attr_o\",\n",
    "    \"sinc_o\",\n",
    "    \"intel_o\",\n",
    "    \"fun_o\",\n",
    "    \"amb_o\",\n",
    "    \"shar_o\",\n",
    "    \"like_o\",\n",
    "    \"prob_o\",\n",
    "    \"age\",\n",
    "    \"imprace\",\n",
    "    \"imprelig\",\n",
    "    \"sports\",\n",
    "    \"tvsports\",\n",
    "    \"excersice\",\n",
    "    \"dining\",\n",
    "    \"museums\",\n",
    "    \"art\",\n",
    "    \"hiking\",\n",
    "    \"gaming\",\n",
    "    \"clubbing\",\n",
    "    \"reading\",\n",
    "    \"tv\",\n",
    "    \"theater\",\n",
    "    \"movies\",\n",
    "    \"concerts\",\n",
    "    \"music\",\n",
    "    \"shopping\",\n",
    "    \"yoga\",\n",
    "    \"exhappy\",\n",
    "    \"attr3_1\",\n",
    "    \"sinc3_1\",\n",
    "    \"intel3_1\",\n",
    "    \"fun3_1\",\n",
    "    \"amb3_1\",\n",
    "    \"attr5_1\",\n",
    "    \"sinc5_1\",\n",
    "    \"intel5_1\",\n",
    "    \"fun5_1\",\n",
    "    \"amb5_1\",\n",
    "    \"attr\",\n",
    "    \"sinc\",\n",
    "    \"intel\",\n",
    "    \"fun\",\n",
    "    \"amb\",\n",
    "    \"shar\",\n",
    "    \"like\",\n",
    "    \"prob\",\n",
    "    \"attr1_s\",\n",
    "    \"sinc1_s\",\n",
    "    \"intel1_s\",\n",
    "    \"fun1_s\",\n",
    "    \"amb1_s\",\n",
    "    \"shar1_s\",\n",
    "    \"attr4_s\",\n",
    "    \"sinc4_s\",\n",
    "    \"intel4_s\",\n",
    "    \"fun4_s\",\n",
    "    \"amb4_s\",\n",
    "    \"satis_2\",\n",
    "    \"iid\",\n",
    "    \"id\",\n",
    "    \"idg\",\n",
    "    \"wave\",\n",
    "    \"round\",\n",
    "    \"order\",\n",
    "    \"partner\",\n",
    "    \"pid\",\n",
    "    \"expnum\",\n",
    "    \"you_call\",\n",
    "    \"them_cal\",\n",
    "    \"numdat_3\",\n",
    "    \"num_in_3\",\n",
    "    \"position\",\n",
    "    \"positin1\",\n",
    "]\n",
    "\n",
    "str_vars = [\n",
    "    \"field\",\n",
    "    \"from\",\n",
    "    \"career\"\n",
    "]\n",
    "\n",
    "unused_vars = [\n",
    "    \"undergrd\",\n",
    "    \"mn_sat\",\n",
    "    \"tuition\"\n",
    "]"
   ]
  },
  {
   "cell_type": "code",
   "execution_count": 3,
   "metadata": {},
   "outputs": [],
   "source": [
    "df =pd.read_csv(\"../raw/SpeedDating.csv\")\n",
    "df[\"income\"]=df[\"income\"].replace(\",\",\"\",regex=True)\n"
   ]
  },
  {
   "cell_type": "code",
   "execution_count": 4,
   "metadata": {},
   "outputs": [
    {
     "name": "stdout",
     "output_type": "stream",
     "text": [
      "<class 'pandas.core.series.Series'>\n",
      "RangeIndex: 8378 entries, 0 to 8377\n",
      "Series name: dec\n",
      "Non-Null Count  Dtype\n",
      "--------------  -----\n",
      "8378 non-null   int64\n",
      "dtypes: int64(1)\n",
      "memory usage: 65.6 KB\n"
     ]
    }
   ],
   "source": [
    "df[\"dec\"].info()"
   ]
  },
  {
   "cell_type": "code",
   "execution_count": 5,
   "metadata": {},
   "outputs": [
    {
     "ename": "KeyError",
     "evalue": "\"['go out'] not in index\"",
     "output_type": "error",
     "traceback": [
      "\u001b[1;31m---------------------------------------------------------------------------\u001b[0m",
      "\u001b[1;31mKeyError\u001b[0m                                  Traceback (most recent call last)",
      "Cell \u001b[1;32mIn [5], line 1\u001b[0m\n\u001b[1;32m----> 1\u001b[0m df[cat_vars]\u001b[39m=\u001b[39mdf[cat_vars]\u001b[39m.\u001b[39mastype(\u001b[39m\"\u001b[39m\u001b[39mcategory\u001b[39m\u001b[39m\"\u001b[39m,copy\u001b[39m=\u001b[39m\u001b[39mFalse\u001b[39;00m)\n\u001b[0;32m      2\u001b[0m df[float_vars]\u001b[39m=\u001b[39mdf[float_vars]\u001b[39m.\u001b[39mastype(\u001b[39m\"\u001b[39m\u001b[39mfloat\u001b[39m\u001b[39m\"\u001b[39m,copy\u001b[39m=\u001b[39m\u001b[39mFalse\u001b[39;00m)\n\u001b[0;32m      3\u001b[0m df[str_vars]\u001b[39m=\u001b[39mdf[str_vars]\u001b[39m.\u001b[39mastype(\u001b[39m\"\u001b[39m\u001b[39mstr\u001b[39m\u001b[39m\"\u001b[39m,copy\u001b[39m=\u001b[39m\u001b[39mFalse\u001b[39;00m)\n",
      "File \u001b[1;32mc:\\Users\\lukas\\anaconda3\\envs\\stats\\lib\\site-packages\\pandas\\core\\frame.py:3811\u001b[0m, in \u001b[0;36mDataFrame.__getitem__\u001b[1;34m(self, key)\u001b[0m\n\u001b[0;32m   3809\u001b[0m     \u001b[39mif\u001b[39;00m is_iterator(key):\n\u001b[0;32m   3810\u001b[0m         key \u001b[39m=\u001b[39m \u001b[39mlist\u001b[39m(key)\n\u001b[1;32m-> 3811\u001b[0m     indexer \u001b[39m=\u001b[39m \u001b[39mself\u001b[39;49m\u001b[39m.\u001b[39;49mcolumns\u001b[39m.\u001b[39;49m_get_indexer_strict(key, \u001b[39m\"\u001b[39;49m\u001b[39mcolumns\u001b[39;49m\u001b[39m\"\u001b[39;49m)[\u001b[39m1\u001b[39m]\n\u001b[0;32m   3813\u001b[0m \u001b[39m# take() does not accept boolean indexers\u001b[39;00m\n\u001b[0;32m   3814\u001b[0m \u001b[39mif\u001b[39;00m \u001b[39mgetattr\u001b[39m(indexer, \u001b[39m\"\u001b[39m\u001b[39mdtype\u001b[39m\u001b[39m\"\u001b[39m, \u001b[39mNone\u001b[39;00m) \u001b[39m==\u001b[39m \u001b[39mbool\u001b[39m:\n",
      "File \u001b[1;32mc:\\Users\\lukas\\anaconda3\\envs\\stats\\lib\\site-packages\\pandas\\core\\indexes\\base.py:6113\u001b[0m, in \u001b[0;36mIndex._get_indexer_strict\u001b[1;34m(self, key, axis_name)\u001b[0m\n\u001b[0;32m   6110\u001b[0m \u001b[39melse\u001b[39;00m:\n\u001b[0;32m   6111\u001b[0m     keyarr, indexer, new_indexer \u001b[39m=\u001b[39m \u001b[39mself\u001b[39m\u001b[39m.\u001b[39m_reindex_non_unique(keyarr)\n\u001b[1;32m-> 6113\u001b[0m \u001b[39mself\u001b[39;49m\u001b[39m.\u001b[39;49m_raise_if_missing(keyarr, indexer, axis_name)\n\u001b[0;32m   6115\u001b[0m keyarr \u001b[39m=\u001b[39m \u001b[39mself\u001b[39m\u001b[39m.\u001b[39mtake(indexer)\n\u001b[0;32m   6116\u001b[0m \u001b[39mif\u001b[39;00m \u001b[39misinstance\u001b[39m(key, Index):\n\u001b[0;32m   6117\u001b[0m     \u001b[39m# GH 42790 - Preserve name from an Index\u001b[39;00m\n",
      "File \u001b[1;32mc:\\Users\\lukas\\anaconda3\\envs\\stats\\lib\\site-packages\\pandas\\core\\indexes\\base.py:6176\u001b[0m, in \u001b[0;36mIndex._raise_if_missing\u001b[1;34m(self, key, indexer, axis_name)\u001b[0m\n\u001b[0;32m   6173\u001b[0m     \u001b[39mraise\u001b[39;00m \u001b[39mKeyError\u001b[39;00m(\u001b[39mf\u001b[39m\u001b[39m\"\u001b[39m\u001b[39mNone of [\u001b[39m\u001b[39m{\u001b[39;00mkey\u001b[39m}\u001b[39;00m\u001b[39m] are in the [\u001b[39m\u001b[39m{\u001b[39;00maxis_name\u001b[39m}\u001b[39;00m\u001b[39m]\u001b[39m\u001b[39m\"\u001b[39m)\n\u001b[0;32m   6175\u001b[0m not_found \u001b[39m=\u001b[39m \u001b[39mlist\u001b[39m(ensure_index(key)[missing_mask\u001b[39m.\u001b[39mnonzero()[\u001b[39m0\u001b[39m]]\u001b[39m.\u001b[39munique())\n\u001b[1;32m-> 6176\u001b[0m \u001b[39mraise\u001b[39;00m \u001b[39mKeyError\u001b[39;00m(\u001b[39mf\u001b[39m\u001b[39m\"\u001b[39m\u001b[39m{\u001b[39;00mnot_found\u001b[39m}\u001b[39;00m\u001b[39m not in index\u001b[39m\u001b[39m\"\u001b[39m)\n",
      "\u001b[1;31mKeyError\u001b[0m: \"['go out'] not in index\""
     ]
    }
   ],
   "source": [
    "df[cat_vars]=df[cat_vars].astype(\"category\",copy=False)\n",
    "df[float_vars]=df[float_vars].astype(\"float\",copy=False)\n",
    "df[str_vars]=df[str_vars].astype(\"str\",copy=False)"
   ]
  },
  {
   "cell_type": "code",
   "execution_count": null,
   "metadata": {},
   "outputs": [],
   "source": [
    "df[\"attr\"].info(verbose=True,show_counts=True)"
   ]
  },
  {
   "cell_type": "code",
   "execution_count": null,
   "metadata": {},
   "outputs": [],
   "source": [
    "dftypes=df.dtypes.to_frame('dtypes').reset_index()\n",
    "dftypes.to_csv(\"Typeframe\")\n",
    "df.to_csv(\"TransformedData\")"
   ]
  },
  {
   "cell_type": "code",
   "execution_count": null,
   "metadata": {},
   "outputs": [],
   "source": [
    "df[[\"age\",\"income\"]]"
   ]
  },
  {
   "cell_type": "code",
   "execution_count": null,
   "metadata": {},
   "outputs": [],
   "source": [
    "plt3=['attr','sinc','intel','fun','like','int_corr','dec']\n",
    "df_plot3=df.melt(id_vars=\"dec\",value_vars=plt3,var_name=\"decision vars\",value_name=\"val\")\n",
    "df_plot3"
   ]
  },
  {
   "cell_type": "code",
   "execution_count": null,
   "metadata": {},
   "outputs": [],
   "source": [
    "#sns.boxplot(df_plot3,y=\"decision vars\",x=\"val\")"
   ]
  },
  {
   "cell_type": "code",
   "execution_count": null,
   "metadata": {},
   "outputs": [],
   "source": [
    "#sns.lmplot(df[[\"age\",\"income\",\"career_c\"]],x=\"age\",y=\"income\",hue=\"career_c\")"
   ]
  },
  {
   "cell_type": "code",
   "execution_count": null,
   "metadata": {},
   "outputs": [],
   "source": [
    "#sns.boxplot(df[[\"like\",\"attr\",\"shar\",\"sinc\",\"prob\",\"intel\",\"amb\",\"fun\"]])"
   ]
  },
  {
   "attachments": {},
   "cell_type": "markdown",
   "metadata": {},
   "source": [
    "Like (\"Wie sehr gefällt mir mein gegenüber\") [1-10], in Verhältniss zu Attraktivität, Gleiche Hobbies, Aufrichtigkeit, Intelligenz, Ambitioniert, Trefferwarscheinlichkeit, Humorvoll.\n",
    "D.h. eine Regression darüber zu bilden"
   ]
  }
 ],
 "metadata": {
  "kernelspec": {
   "display_name": "stats",
   "language": "python",
   "name": "python3"
  },
  "language_info": {
   "codemirror_mode": {
    "name": "ipython",
    "version": 3
   },
   "file_extension": ".py",
   "mimetype": "text/x-python",
   "name": "python",
   "nbconvert_exporter": "python",
   "pygments_lexer": "ipython3",
   "version": "3.9.15 | packaged by conda-forge | (main, Nov 22 2022, 08:39:05) [MSC v.1929 64 bit (AMD64)]"
  },
  "orig_nbformat": 4,
  "vscode": {
   "interpreter": {
    "hash": "3a0f3ad14519b735d3b531c9de039f00fb93fc5113abea86e8535c5e9fe3fe0f"
   }
  }
 },
 "nbformat": 4,
 "nbformat_minor": 2
}
