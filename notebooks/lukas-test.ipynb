{
 "cells": [
  {
   "cell_type": "code",
   "execution_count": null,
   "metadata": {},
   "outputs": [],
   "source": [
    "import pandas as pd\n",
    "import altair as alt\n",
    "import numpy as np\n",
    "\n",
    "pd.set_option('display.max_columns', None)\n",
    "# alt.data_transformers.disable_max_rows()"
   ]
  },
  {
   "cell_type": "code",
   "execution_count": null,
   "metadata": {},
   "outputs": [],
   "source": [
    "df = pd.read_csv(\"../data/raw/SpeedDating.csv\",delimiter=\",\")"
   ]
  },
  {
   "cell_type": "code",
   "execution_count": null,
   "metadata": {},
   "outputs": [],
   "source": [
    "df.head()"
   ]
  },
  {
   "cell_type": "markdown",
   "metadata": {},
   "source": [
    "Interesting fields:\n",
    "\n",
    "- gender (Female = 0, Male = 1)\n",
    "- condtn (Limited choice = 1, extensive choice = 2)\n",
    "- wave (1-21), especially because of variations\n",
    "- round (number of people in wave, if not always 10)\n",
    "- order (number of date that night)\n",
    "- match (yes = 1, no = 0)\n",
    "- samerace (yes = 1, no = 0)\n",
    "- age_o (age of partner)\n",
    "- race_o (race of partner)\n",
    "- dec_o (decision of partner the night of event)\n",
    "- attr_o (rating by partner the night of the event, for all 6 attributes)\n",
    "\n",
    "Field at time 1 (signup time):\n",
    "- age\n",
    "- field (of study)\n",
    "- undergrd (bachelor student)\n",
    "- mn_sat (proxy for intelligence)\n",
    "- race (Black/African American=1, European/Caucasian-American=2, Latino/Hispanic American=3, Asian/Pacific Islander/Asian-American=4, Native American=5, Other=6)\n",
    "- imprace (importance of same racial/ethic background)\n",
    "- imprelig (importance of same religion)\n",
    "- from + zipcode (originally from)\n",
    "- income (Median household income based on zip code)\n",
    "- goal (Seemed like a fun night out=1, To meet new people=2, To get a date=3, Looking for a serious relationship=4, To say I did it=5, Other=6)\n",
    "- date (Several times a week=1, Twice a week=2, Once a week=3, Twice a month=4, Once a month=5, Several times a year=6, Almost never=7)\n",
    "- go out (Several times a week=1, Twice a week=2, Once a week=3, Twice a month=4, Once a month=5, Several times a year=6, Almost never=7)\n",
    "- career\n",
    "- interest in activities from 1-10\n",
    "- exphappy from 1-10 (how happy do you expect to be with prople you meet during the speed-dating event)\n",
    "- expnum (out of 20 people, how many do you expect to be interested in you?)\n",
    "\n",
    "Fields at time 2 (follow up):\n",
    "- satis_2 (how satisfied, 1 - 10)\n",
    "\n",
    "Field at time 3 (followup2, 3-4 after they knew their matches):\n",
    "- you_call (how many have you contacted)\n",
    "- them_cal (how many contacted you)\n",
    "- date_3 (have you been on a date? yes = 1, no = 2)\n",
    "- numdat_3 (how many dates?)\n",
    "- num_in_3\n"
   ]
  },
  {
   "cell_type": "code",
   "execution_count": null,
   "metadata": {},
   "outputs": [],
   "source": [
    "# alt.Chart(df).mark_bar().encode(\n",
    "#     alt.X(\"you_call:O\"),\n",
    "#     alt.Y(\"count(you_call)\")\n",
    "# ) | alt.Chart(df).mark_bar().encode(\n",
    "#     alt.X(\"them_cal:O\"),\n",
    "#     alt.Y(\"count(them_cal)\")\n",
    "# )\n"
   ]
  },
  {
   "cell_type": "code",
   "execution_count": null,
   "metadata": {},
   "outputs": [],
   "source": [
    "# c1 = alt.Chart(df).mark_bar().encode(\n",
    "#     alt.X(\"samerace:O\"),\n",
    "#     alt.Y(\"mean(imprace)\")\n",
    "# )\n",
    "\n",
    "# c2 = alt.Chart(df).mark_bar().encode(\n",
    "#     alt.X(\"samerace:O\"),\n",
    "#     alt.Y(\"mean(imprelig)\")\n",
    "# )\n",
    "\n",
    "# c1 | c2"
   ]
  },
  {
   "cell_type": "code",
   "execution_count": null,
   "metadata": {},
   "outputs": [],
   "source": [
    "# alt.Chart(df).mark_bar().encode(\n",
    "#     alt.X(\"age_o\"),\n",
    "#     alt.Y(\"count(match)\"),\n",
    "#     alt.Color(\"match:O\")\n",
    "# )"
   ]
  },
  {
   "cell_type": "code",
   "execution_count": null,
   "metadata": {},
   "outputs": [],
   "source": []
  },
  {
   "cell_type": "code",
   "execution_count": null,
   "metadata": {},
   "outputs": [],
   "source": [
    "# alt.Chart(df).mark_bar().encode(\n",
    "#     alt.X(\"condtn:O\", axis = alt.Axis(title=\"Conditional\")),\n",
    "#     alt.Y(\"count(match)\"),\n",
    "#     alt.Color(\"match:O\")\n",
    "# )"
   ]
  },
  {
   "cell_type": "code",
   "execution_count": null,
   "metadata": {},
   "outputs": [],
   "source": []
  }
 ],
 "metadata": {
  "kernelspec": {
   "display_name": "Python 3.9.15 ('stats')",
   "language": "python",
   "name": "python3"
  },
  "language_info": {
   "codemirror_mode": {
    "name": "ipython",
    "version": 3
   },
   "file_extension": ".py",
   "mimetype": "text/x-python",
   "name": "python",
   "nbconvert_exporter": "python",
   "pygments_lexer": "ipython3",
   "version": "3.9.15"
  },
  "orig_nbformat": 4,
  "vscode": {
   "interpreter": {
    "hash": "d658152753fb78692284d722f8665069cf1f80281cff06d1f12baef637756857"
   }
  }
 },
 "nbformat": 4,
 "nbformat_minor": 2
}
