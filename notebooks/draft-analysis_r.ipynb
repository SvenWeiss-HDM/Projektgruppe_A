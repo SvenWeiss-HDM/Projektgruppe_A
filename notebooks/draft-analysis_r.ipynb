{
 "cells": [
  {
   "attachments": {},
   "cell_type": "markdown",
   "metadata": {},
   "source": [
    "# Draft analysis \n",
    "\n",
    "---\n",
    "\n",
    "Group Name:\n",
    "\n",
    "---\n"
   ]
  },
  {
   "attachments": {},
   "cell_type": "markdown",
   "metadata": {},
   "source": [
    "## Introduction\n",
    "\n",
    "*This section includes an introduction to the project motivation, data, and research question. Include a data dictionary* \n",
    "\n",
    "In the last 30 years, the dating approach has changed and has become increasingly difficult. The willingness to date has decreased, dating is too expensive and time consuming, we have too many (perceived) options to date someone and we struggle because of accepting too easily negative sex stereotypes. In the 19th century, a custom in the United States called New Year’s Calling, was that on New Year's Day many young, single women would hold an Open House (a party or reception during which a person's home is open to visitors) on 1 January where they would invite eligible bachelors, both friends and strangers, to stop by for a brief (no more than 10–15-minute) visit. This custom was established with the term SpeedDating as a registered trademark by Aish HaTorah, who began hosting SpeedDating events in 1998. \n",
    "\n",
    "10 years later, Fisman et al. conducted a survey regarding speed dating habits and collected 8,000 observations during his 2 – year observation in his paper Gender Differences in Mate Selection: Evidence from a Speed Dating Experiment. Because speed dating has become more and more interesting in the last few years and also through Corona a completely new dating approach has emerged, we want to discuss contexts in speed dating. With the data from this survey, we want to answer the following research questions:\n",
    "\n",
    "TODO:\n",
    "-   What are the most effective characteristics to achieve a match in opposite sex speed dating?\n",
    "\n",
    "To answer our research question, we defined the following sub-questions to strengthen our main research question:\n",
    "\n",
    "-   Do specific characteristics affect the match selection of the survey participants?\n",
    "-   Do these specific characteristics occur in both sexes?\n",
    "-   What type of persons participate in speed dating events?\n",
    "-   After three weeks, how many contacts did each type of person have?\n",
    "-   Is there a significant difference between the number of men calling women or women calling men after three weeks?\n",
    "\n",
    "The following hypotheses support our research question:\n",
    "\n",
    "Null hypothesis: \n",
    "-   There is no affection of having specific characteristics regarding match selection of the survey participants\n",
    "-   There is no correlation between shared interests, attributes and getting a match\n",
    "\n",
    "Hypotheses:\n",
    "-   Survey participants who both have the specific characteristics samerace and opposite gender tend to achieve more matches\n",
    "-   Survey participants with a higher income tend to achieve more matches than survey participants with a lower income\n",
    "-   Achieving matches because of having the same specific characteristics occur in both sexes\n",
    "-   Three weeks after the event, males called women more often\n",
    "\n",
    "## Data dictionary\n",
    "### General information\n",
    "\n",
    "| Name     | Description                                                                                                         | Role      | Type    | Format   |\n",
    "|----------|---------------------------------------------------------------------------------------------------------------------|-----------|---------|----------|\n",
    "| iid      | Unique subject number (wave + id + gender)                                                                          | ID        | numeric | int      |\n",
    "| id       | Subject number within wave                                                                                          | ID        | numeric | int      |\n",
    "| gender   | Gender of the person. Female = 0, Male = 1                                                                          | predictor | nominal | category |\n",
    "| idg      | Subject number within gender (id + gender)                                                                          | ID        | numeric | int      |\n",
    "| condtn   | Condition of the wave, 1 = Limited choice, 2 = extensive choice                                                     | predictor | nominal | category |\n",
    "| wave     | ID of the event                                                                                                     | ID        | numeric | int      |\n",
    "| round    | Number of people that met in wave                                                                                   | predictor | numeric | int      |\n",
    "| position | Station number where met partner                                                                                    | predictor | numeric | int      |\n",
    "| positin1 | Station number where started                                                                                        | predictor | numeric | int      |\n",
    "| order    | The number of date that night when met partner                                                                      | predictor | numeric | int      |\n",
    "| partner  | Partner's ID number the night of event                                                                              | ID        | numeric | int      |\n",
    "| pid      | Partner's IID number                                                                                                | ID        | numeric | int      |\n",
    "| match    | 1 = yes, 0 = no                                                                                                     | response  | nominal | category |\n",
    "| int_corr | Correlation between participant's and partner's ratings of interests in Time 1                                      | predictor | numeric | float    |\n",
    "| samerace | Participant and the partner were the same race. 1 =  yes, 0 = no                                                    | predictor | nominal | category |\n",
    "| age_o    | Age of partner                                                                                                      | predictor | nominal | category |\n",
    "| race_o   | Race of partner                                                                                                     | predictor | nominal | category |\n",
    "| pf_o_att | Partner's stated preference at Time 1. The sum of all pf_o_ elements must be 100.                                   | predictor | numeric | float    |\n",
    "| pf_o_sin | Partner's stated preference at Time 1. The sum of all pf_o_ elements must be 100.                                   | predictor | numeric | float    |\n",
    "| pf_o_int | Partner's stated preference at Time 1. The sum of all pf_o_ elements must be 100.                                   | predictor | numeric | float    |\n",
    "| pf_o_fun | Partner's stated preference at Time 1. The sum of all pf_o_ elements must be 100.                                   | predictor | numeric | float    |\n",
    "| pf_o_amb | Partner's stated preference at Time 1. The sum of all pf_o_ elements must be 100.                                   | predictor | numeric | float    |\n",
    "| pf_o_sha | Partner's stated preference at Time 1. The sum of all pf_o_ elements must be 100.                                   | predictor | numeric | float    |\n",
    "| dec_o    | Decision of partner the night of event                                                                              | predictor | nominal | category |\n",
    "| attr_o   | Attractive. Rating by partner the night of the event from 1 (awful) to 10 (great)                                   | predictor | numeric | int      |\n",
    "| sinc_o   | Sincere. Rating by partner the night of the event from 1 (awful) to 10 (great)                                      | predictor | numeric | int      |\n",
    "| intel_o  | Intelligent. Rating by partner the night of the event from 1 (awful) to 10 (great)                                  | predictor | numeric | int      |\n",
    "| fun_o    | Fun. Rating by partner the night of the event from 1 (awful) to 10 (great)                                          | predictor | numeric | int      |\n",
    "| amb_o    | Ambitious. Rating by partner the night of the event from 1 (awful) to 10 (great)                                    | predictor | numeric | int      |\n",
    "| shar_o   | Shared Interests/Hobbies. Rating by partner the night of the event from 1 (awful) to 10 (great)                     | predictor | numeric | int      |\n",
    "| like_o   | Overall, how much do oyu like this person. 1 (don't like at all) to 10 (like a lot)                                 | predictor | numeric | int      |\n",
    "| prob_o   | How probable do you think it is that this person will say 'yes' for you? 1 (not probable) to 10 (extemely probable) | predictor | numeric | int      |\n",
    "| met_o    | Have you met this person before? (1 = yes, 2 = no)                                                                  | predictor | ordinal | category |\n",
    "\n",
    "### Time 1: Survey filled out by students that are interested in participating in order to register for the event\n",
    "\n",
    "| Name      | Description                                                                                                                                                                                                                                                                                                                                                                                                                                                                                                                                      | Role      | Type    | Format   |\n",
    "|-----------|--------------------------------------------------------------------------------------------------------------------------------------------------------------------------------------------------------------------------------------------------------------------------------------------------------------------------------------------------------------------------------------------------------------------------------------------------------------------------------------------------------------------------------------------------|-----------|---------|----------|\n",
    "| age       | Age of the person                                                                                                                                                                                                                                                                                                                                                                                                                                                                                                                                | predictor | numeric | int      |\n",
    "| field     | Field of study                                                                                                                                                                                                                                                                                                                                                                                                                                                                                                                                   | predictor | nominal | string   |\n",
    "| field_cd  | Field of study coded.<br/>1= Law<br/>2= Math<br/>3= Social Science, Psychologist<br/>4= Medical Science, Pharmaceuticals, and Bio Tech<br/>5= Engineering<br/>6= English/Creative Writing/ Journalism<br/>7= History/Religion/Philosophy<br/>8= Business/Econ/Finance<br/>9= Education, Academia<br/>10= Biological Sciences/Chemistry/Physics<br/>11= Social Work<br/>12= Undergrad/undecided<br/>13=Political Science/International Affairs<br/>14=Film<br/>15=Fine Arts/Arts Administration<br/>16=Languages<br/>17=Architecture<br/>18=Other | predictor | nominal | category |\n",
    "| mn_sat    | Median SAT score for the undergraduate institution where attended. Proxy for intelligence.                                                                                                                                                                                                                                                                                                                                                                                                                                                       |           |         |          |\n",
    "| tuition   | Tuition listed for each response to undergrad                                                                                                                                                                                                                                                                                                                                                                                                                                                                                                    |           |         |          |\n",
    "| race      | Race of the attendee<br/>1 = Black/African American<br/>2 = European/Caucasian-American<br/>3 = Latino/Hispanic American<br/>4 = Asian/Pacific Islander/Asian-American<br/>5 = Native American<br/>6 = Other                                                                                                                                                                                                                                                                                                                                     | predictor | nominal | category |\n",
    "| imprace   | How important is it that a person you date be of the same racial/ethic background? (1 - 10)                                                                                                                                                                                                                                                                                                                                                                                                                                                      | predictor | numeric | int      |\n",
    "| imprelig  | How important is it that a person you date be of the same religious background? (1 - 10)                                                                                                                                                                                                                                                                                                                                                                                                                                                         | predictor | numeric | int      |\n",
    "| from      | Where the person is originally from                                                                                                                                                                                                                                                                                                                                                                                                                                                                                                              | predictor | nominal | string   |\n",
    "| zipcode   | Zip code of the grow up area                                                                                                                                                                                                                                                                                                                                                                                                                                                                                                                     | predictor | nominal | category |\n",
    "| income    | Median household income based on zipcode                                                                                                                                                                                                                                                                                                                                                                                                                                                                                                         | predictor | numeric | float    |\n",
    "| goal      | What is the goal in participating in this event?<br/>1 = Seemed like a fun night out<br/>2 = To meet new people<br/>3 = To get a date<br/>4 = Looking for a serious relationship<br/>5  = To say I did it<br/>6 = Other                                                                                                                                                                                                                                                                                                                          | predictor | nominal | category |\n",
    "| date      | How frequently do you go on dates? <br/>1 = Several times a week<br/>2 = Twice a week<br/>3 = Once a week<br/>4 = Twice a month<br/>5 = Once a month<br/>6 = Several times a year<br/>7 = Almost never                                                                                                                                                                                                                                                                                                                                           | predictor | ordinal | category |\n",
    "| go out    | How often do you go out (not necessarily on dates)?<br/>1 = Several times a week<br/>2 = Twice a week<br/>3 = Once a week<br/>4 = Twice a month<br/>5 = Once a month<br/>6 = Several times a year<br/>7 = Almost never                                                                                                                                                                                                                                                                                                                           | predictor | ordinal | category |\n",
    "| career    | What is your intended career?                                                                                                                                                                                                                                                                                                                                                                                                                                                                                                                    | predictor | nominal | string   |\n",
    "| career_c  | Career coded.<br/>1 = Lawyer<br/>2 = Academic/Research<br/>3 = Psychologist<br/>4 = Doctor/Medicine<br/>5 =Engineer<br/>6 = Creative Arts/Entertainment<br/>7 = Banking/Consulting/Finance/Marketing/Business/CEO/Entrepreneur/Admin<br/>8 = Real Estate<br/>9 = International/Humanitarian Affairs<br/>10 = Undecided<br/>11 = Social Work<br/>12 = Speech Pathology<br/>13 = Politics<br/>14 = Pro sports/Athletics<br/>15 = Other<br/>16 = Journalism<br/>17 = Architecture                                                                   | predictor | nominal | category |\n",
    "| sports    | Playing sports/athletics. Interest in this Hobby from 1 - 10.                                                                                                                                                                                                                                                                                                                                                                                                                                                                                    | predictor | numeric | int      |\n",
    "| tvsports  | Watching sports. Interest in this Hobby from 1 - 10.                                                                                                                                                                                                                                                                                                                                                                                                                                                                                             | predictor | numeric | int      |\n",
    "| excersice | Body building/exercising. Interest in this Hobby from 1 - 10.                                                                                                                                                                                                                                                                                                                                                                                                                                                                                    | predictor | numeric | int      |\n",
    "| dining    | Dining out. Interest in this Hobby from 1 - 10.                                                                                                                                                                                                                                                                                                                                                                                                                                                                                                  | predictor | numeric | int      |\n",
    "| museums   | Museums/galleries. Interest in this Hobby from 1 - 10.                                                                                                                                                                                                                                                                                                                                                                                                                                                                                           | predictor | numeric | int      |\n",
    "| art       | Art. Interest in this Hobby from 1 - 10.                                                                                                                                                                                                                                                                                                                                                                                                                                                                                                         | predictor | numeric | int      |\n",
    "| hiking    | Hiking/camping. Interest in this Hobby from 1 - 10.                                                                                                                                                                                                                                                                                                                                                                                                                                                                                              | predictor | numeric | int      |\n",
    "| gaming    | Gaming. Interest in this Hobby from 1 - 10.                                                                                                                                                                                                                                                                                                                                                                                                                                                                                                      | predictor | numeric | int      |\n",
    "| clubbing  | Dancing/clubbing. Interest in this Hobby from 1 - 10.                                                                                                                                                                                                                                                                                                                                                                                                                                                                                            | predictor | numeric | int      |\n",
    "| reading   | Reading. Interest in this Hobby from 1 - 10.                                                                                                                                                                                                                                                                                                                                                                                                                                                                                                     | predictor | numeric | int      |\n",
    "| tv        | Watching TV. Interest in this Hobby from 1 - 10.                                                                                                                                                                                                                                                                                                                                                                                                                                                                                                 | predictor | numeric | int      |\n",
    "| theater   | Theater. Interest in this Hobby from 1 - 10.                                                                                                                                                                                                                                                                                                                                                                                                                                                                                                     | predictor | numeric | int      |\n",
    "| movies    | Movies. Interest in this Hobby from 1 - 10.                                                                                                                                                                                                                                                                                                                                                                                                                                                                                                      | predictor | numeric | int      |\n",
    "| concerts  | Going to concerts. Interest in this Hobby from 1 - 10.                                                                                                                                                                                                                                                                                                                                                                                                                                                                                           | predictor | numeric | int      |\n",
    "| music     | Music. Interest in this Hobby from 1 - 10.                                                                                                                                                                                                                                                                                                                                                                                                                                                                                                       | predictor | numeric | int      |\n",
    "| shopping  | Shopping. Interest in this Hobby from 1 - 10.                                                                                                                                                                                                                                                                                                                                                                                                                                                                                                    | predictor | numeric | int      |\n",
    "| yoga      | Yoga/meditation. Interest in this Hobby from 1 - 10.                                                                                                                                                                                                                                                                                                                                                                                                                                                                                             | predictor | numeric | int      |\n",
    "| exhappy   | Overall, how happy do you expect to be with the people you meet during the event? (1 - 10)                                                                                                                                                                                                                                                                                                                                                                                                                                                       | predictor | numeric | int      |\n",
    "| expnum    | Out of 20 people, how many do you expect will be interested in dating you?                                                                                                                                                                                                                                                                                                                                                                                                                                                                       | predictor | numeric | int      |\n",
    "| attr1_1   | What do you (personally) look for in the opposite sex. The sum of all attr1_1 elements must be 100.                                                                                                                                                                                                                                                                                                                                                                                                                                              | predictor | numeric | float    |\n",
    "| sinc1_1   | What do you (personally) look for in the opposite sex. The sum of all attr1_1 elements must be 100.                                                                                                                                                                                                                                                                                                                                                                                                                                              | predictor | numeric | float    |\n",
    "| intel1_1  | What do you (personally) look for in the opposite sex. The sum of all attr1_1 elements must be 100.                                                                                                                                                                                                                                                                                                                                                                                                                                              | predictor | numeric | float    |\n",
    "| fun1_1    | What do you (personally) look for in the opposite sex. The sum of all attr1_1 elements must be 100.                                                                                                                                                                                                                                                                                                                                                                                                                                              | predictor | numeric | float    |\n",
    "| amb1_1    | What do you (personally) look for in the opposite sex. The sum of all attr1_1 elements must be 100.                                                                                                                                                                                                                                                                                                                                                                                                                                              | predictor | numeric | float    |\n",
    "| shar1_1   | What do you (personally) look for in the opposite sex. The sum of all attr1_1 elements must be 100.                                                                                                                                                                                                                                                                                                                                                                                                                                              | predictor | numeric | float    |\n",
    "| attr4_1   | What do you think your fellow men/woman look for in the opposite sex. The sum of all attr4_1 elements must be 100.                                                                                                                                                                                                                                                                                                                                                                                                                               | predictor | numeric | float    |\n",
    "| sinc4_1   | What do you think your fellow men/woman look for in the opposite sex. The sum of all attr4_1 elements must be 100.                                                                                                                                                                                                                                                                                                                                                                                                                               | predictor | numeric | float    |\n",
    "| intel4_1  | What do you think your fellow men/woman look for in the opposite sex. The sum of all attr4_1 elements must be 100.                                                                                                                                                                                                                                                                                                                                                                                                                               | predictor | numeric | float    |\n",
    "| fun4_1    | What do you think your fellow men/woman look for in the opposite sex. The sum of all attr4_1 elements must be 100.                                                                                                                                                                                                                                                                                                                                                                                                                               | predictor | numeric | float    |\n",
    "| amb4_1    | What do you think your fellow men/woman look for in the opposite sex. The sum of all attr4_1 elements must be 100.                                                                                                                                                                                                                                                                                                                                                                                                                               | predictor | numeric | float    |\n",
    "| shar4_1   | What do you think your fellow men/woman look for in the opposite sex. The sum of all attr4_1 elements must be 100.                                                                                                                                                                                                                                                                                                                                                                                                                               | predictor | numeric | float    |\n",
    "| attr2_1   | What do you think the opposite sex looks for in a date. The sum of all attr2_1 elements must be 100.                                                                                                                                                                                                                                                                                                                                                                                                                                             | predictor | numeric | float    |\n",
    "| sinc2_1   | What do you think the opposite sex looks for in a date. The sum of all attr2_1 elements must be 100.                                                                                                                                                                                                                                                                                                                                                                                                                                             | predictor | numeric | float    |\n",
    "| intel2_1  | What do you think the opposite sex looks for in a date. The sum of all attr2_1 elements must be 100.                                                                                                                                                                                                                                                                                                                                                                                                                                             | predictor | numeric | float    |\n",
    "| fun2_1    | What do you think the opposite sex looks for in a date. The sum of all attr2_1 elements must be 100.                                                                                                                                                                                                                                                                                                                                                                                                                                             | predictor | numeric | float    |\n",
    "| amb2_1    | What do you think the opposite sex looks for in a date. The sum of all attr2_1 elements must be 100.                                                                                                                                                                                                                                                                                                                                                                                                                                             | predictor | numeric | float    |\n",
    "| shar2_1   | What do you think the opposite sex looks for in a date. The sum of all attr2_1 elements must be 100.                                                                                                                                                                                                                                                                                                                                                                                                                                             | predictor | numeric | float    |\n",
    "| attr3_1   | Rate yourself from 1 - 10.                                                                                                                                                                                                                                                                                                                                                                                                                                                                                                                       | predictor | numeric | int      |\n",
    "| sinc3_1   | Rate yourself from 1 - 10.                                                                                                                                                                                                                                                                                                                                                                                                                                                                                                                       | predictor | numeric | int      |\n",
    "| intel3_1  | Rate yourself from 1 - 10.                                                                                                                                                                                                                                                                                                                                                                                                                                                                                                                       | predictor | numeric | int      |\n",
    "| fun3_1    | Rate yourself from 1 - 10.                                                                                                                                                                                                                                                                                                                                                                                                                                                                                                                       | predictor | numeric | int      |\n",
    "| amb3_1    | Rate yourself from 1 - 10.                                                                                                                                                                                                                                                                                                                                                                                                                                                                                                                       | predictor | numeric | int      |\n",
    "| shar3_1   | Rate yourself from 1 - 10.                                                                                                                                                                                                                                                                                                                                                                                                                                                                                                                       | predictor | numeric | int      |\n",
    "| attr5_1   | How do you think others perceive you? 1 = awful, 10 = great                                                                                                                                                                                                                                                                                                                                                                                                                                                                                      | predictor | numeric | int      |\n",
    "| sinc5_1   | How do you think others perceive you? 1 = awful, 10 = great                                                                                                                                                                                                                                                                                                                                                                                                                                                                                      | predictor | numeric | int      |\n",
    "| intel5_1  | How do you think others perceive you? 1 = awful, 10 = great                                                                                                                                                                                                                                                                                                                                                                                                                                                                                      | predictor | numeric | int      |\n",
    "| fun5_1    | How do you think others perceive you? 1 = awful, 10 = great                                                                                                                                                                                                                                                                                                                                                                                                                                                                                      | predictor | numeric | int      |\n",
    "| amb5_1    | How do you think others perceive you? 1 = awful, 10 = great                                                                                                                                                                                                                                                                                                                                                                                                                                                                                      | predictor | numeric | int      |\n",
    "| shar5_1   | How do you think others perceive you? 1 = awful, 10 = great                                                                                                                                                                                                                                                                                                                                                                                                                                                                                      | predictor | numeric | int      |\n",
    "\n",
    "<br>\n",
    "\n",
    "> Careful: For all attributes *_1, *_2 and *_4, wave 6-9 rated the importance of the attributes in a potential date on a scale of 1-10 (1=not at all important, 10=extremely important).<br>\n",
    "> Waves 1-5 and 10-21 distribued 100 points among the attributes. Total points must equal 100.\n",
    "\n",
    "\n",
    "### Round 2: Filled out by subjects after each \"date\" during the event.\n",
    "\n",
    "| Name  | Description                                                                                                         | Role      | Type    | Format   |\n",
    "|-------|---------------------------------------------------------------------------------------------------------------------|-----------|---------|----------|\n",
    "| dec   | Decision if you want to see the person again (1) or not (0)                                                         | predictor | nominal | category |\n",
    "| attr  | Rating of the attribute for this person from 1 - 10.                                                                | predictor | numeric | int      |\n",
    "| sinc  | Rating of the attribute for this person from 1 - 10.                                                                | predictor | numeric | int      |\n",
    "| intel | Rating of the attribute for this person from 1 - 10.                                                                | predictor | numeric | int      |\n",
    "| fun   | Rating of the attribute for this person from 1 - 10.                                                                | predictor | numeric | int      |\n",
    "| amb   | Rating of the attribute for this person from 1 - 10.                                                                | predictor | numeric | int      |\n",
    "| shar  | Rating of the attribute for this person from 1 - 10.                                                                | predictor | numeric | int      |\n",
    "| like  | Overall, how much do oyu like this person. 1 (don't like at all) to 10 (like a lot)                                 | predictor | numeric | int      |\n",
    "| prob  | How probable do you think it is that this person will say 'yes' for you? 1 (not probable) to 10 (extemely probable) | predictor | numeric | int      |\n",
    "| met   | Have you met this person before? (1 = yes, 2 = no)                                                                  | predictor | ordinal | category |\n",
    "\n",
    "### Half way through meeting all potential dates during the night of the event on their scorecard\n",
    "\n",
    "| Name     | Description                                                           | Role      | Type    | Format |\n",
    "|----------|-----------------------------------------------------------------------|-----------|---------|--------|\n",
    "| attr1_s  | What do you (personally) look for in the opposite sex. 1 - 10 rating. | predictor | numeric | int    |\n",
    "| sinc1_s  | What do you (personally) look for in the opposite sex. 1 - 10 rating. | predictor | numeric | int    |\n",
    "| intel1_s | What do you (personally) look for in the opposite sex. 1 - 10 rating. | predictor | numeric | int    |\n",
    "| fun1_s   | What do you (personally) look for in the opposite sex. 1 - 10 rating. | predictor | numeric | int    |\n",
    "| amb1_s   | What do you (personally) look for in the opposite sex. 1 - 10 rating. | predictor | numeric | int    |\n",
    "| shar1_s  | What do you (personally) look for in the opposite sex. 1 - 10 rating. | predictor | numeric | int    |\n",
    "| attr4_s  | Rate yourself from 1 - 10                                             | predictor | numeric | int    |\n",
    "| sinc4_s  | Rate yourself from 1 - 10                                             | predictor | numeric | int    |\n",
    "| intel4_s | Rate yourself from 1 - 10                                             | predictor | numeric | int    |\n",
    "| fun4_s   | Rate yourself from 1 - 10                                             | predictor | numeric | int    |\n",
    "| amb4_s   | Rate yourself from 1 - 10                                             | predictor | numeric | int    |\n",
    "\n",
    "### Time 2: Survey is filled out the day after participating in the event. Subjects must have submitted this in order to be sent their matches.\n",
    "\n",
    "| Name     | Description                                                                                               | Role      | Type    | Format   |\n",
    "|----------|-----------------------------------------------------------------------------------------------------------|-----------|---------|----------|\n",
    "| satis_2  | Overall, how satisfied were you with the people you met? (1=not at all satisfied, 10=extremely satisfied) | predictor | numeric | int      |\n",
    "| length   | Four minutes is:<br/>1 = Too little,<br/>2 = Too much<br/>3 = Just Right                                  | predictor | nominal | category |\n",
    "| numdat_2 | The number of Speed \"Dates\" you had was:<br/>1 = Too few,<br/>2 = Too many,<br/>3 = Just right            | predictor | nominal | category |\n",
    "\n",
    "... and again the same questions regarding attributes\n",
    "\n",
    "### Time 3: Subjects filled out 3-4 weeks after they had been sent their matches\n",
    "\n",
    "| Name     | Description                                                           | Role      | Type    | Format   |\n",
    "|----------|-----------------------------------------------------------------------|-----------|---------|----------|\n",
    "| you_call | How many have you contacted to set up a date?                         | predictor | numeric | int      |\n",
    "| them_cal | How many have contacted you?                                          | predictor | numeric | int      |\n",
    "| date_3   | Have you been on a date with any of your matches? Yes=1 No=2          | predictor | nominal | category |\n",
    "| numdat_3 | If yes, how many of your matches have you been on a date with so far? | predictor | numeric | int      |\n",
    "| num_in_3 | If yes, how many?                                                     | predictor | numeric | int      |\n",
    "\n",
    "... and again the same questions regarding attributes\n",
    "\n",
    "<br>\n",
    "\n",
    "- `Role`: response, predictor, ID (ID columns are not used in a model but can help to better understand the data)\n",
    "\n",
    "- `Type`: nominal, ordinal or numeric\n",
    "\n",
    "- `Format`: int, float, string, category, date or object"
   ]
  },
  {
   "attachments": {},
   "cell_type": "markdown",
   "metadata": {},
   "source": [
    "### Descriptive terms for our used variables \n",
    "\n",
    "| Name  | Description                                                                                                         | Descriptive term      | \n",
    "|-------|---------------------------------------------------------------------------------------------------------------------|-----------|\n",
    "| calls   | Event of a participant conducting a \"you_call\" or \"them_cal\" with the other party                                 | Calls of participants |\n",
    "| attr  | Rating of the attribute for this person from 1 - 10.                                                                | Attractiveness of speed dating participant | \n",
    "| sinc  | Rating of the attribute for this person from 1 - 10.                                                                | Sincerety of speed dating participant | \n",
    "| intel | Rating of the attribute for this person from 1 - 10.                                                                | Intelligence of speed dating participant  | \n",
    "| fun   | Rating of the attribute for this person from 1 - 10.                                                                | Funniness of speed dating participant | \n",
    "| amb   | Rating of the attribute for this person from 1 - 10.                                                                | Ambitiousness of speed dating participant | \n",
    "| shar  | Rating of the attribute for this person from 1 - 10.                                                                | Shared Interests/Hobbies of the speed dating participant to the other party | \n",
    "| like  | Overall, how much do oyu like this person. 1 (don't like at all) to 10 (like a lot)                                 | Strength of like of speed dating participant to the other party | \n",
    "| prob  | How probable do you think it is that this person will say 'yes' for you? 1 (not probable) to 10 (extemely probable) | Probability of speed dating participant to like the other party | \n",
    "| met   | Have you met this person before? (1 = yes, 2 = no)                                                                  | Meeting indicator of participants | \n",
    "| gender   | Gender of the person. Female = 0, Male = 1                                                                       | Gender of speed dating participant |\n",
    "| order    | The number of date that night when met partner                                                                   | Order of date of speed dating participant and the other party during event  |\n",
    "| match    | 1 = yes, 0 = no                                                                                                  | Match of the speed dating participant and the other party  |\n",
    "| int_corr | Correlation between participant's and partner's ratings of interests in Time 1                                   | Correlation of the speed dating participant and the other party |\n",
    "| samerace | Participant and the partner were the same race. 1 =  yes, 0 = no                                                 | Indicates, if the speed dating participant and the other party have the same race  |\n",
    "| age       | Age of the person                                                                                               | Age of speed dating participant |\n",
    "| age_o    | Age of partner                                                                                                   | Age of other party |\n",
    "| race      | Race of the attendee<br/>1 = Black/African American<br/>2 = European/Caucasian-American<br/>3 = Latino/Hispanic American<br/>4 = Asian/Pacific Islander/Asian-American<br/>5 = Native American<br/>6 = Other                                                                                                           | Race of speed dating participant |\n",
    "| race_o   | Race of partner                                                                                                     | Race of other party |\n",
    "| imprace   | How important is it that a person you date be of the same racial/ethic background? (1 - 10)                        | Importance of the other party having the same race as the speed dating participant |"
   ]
  },
  {
   "cell_type": "markdown",
   "metadata": {},
   "source": [
    "## Setup"
   ]
  },
  {
   "cell_type": "code",
   "execution_count": null,
   "metadata": {},
   "outputs": [],
   "source": [
    "#Import all necessary libraries\n",
    "%matplotlib inline\n",
    "import numpy as np\n",
    "import pandas as pd\n",
    "import altair as alt\n",
    "import seaborn as sns\n",
    "\n",
    "from sklearn.inspection import permutation_importance\n",
    "from sklearn.feature_selection import SelectFromModel\n",
    "from sklearn.model_selection import GridSearchCV\n",
    "from sklearn.model_selection import train_test_split\n",
    "from sklearn.model_selection import cross_val_score\n",
    "from sklearn.inspection import permutation_importance\n",
    "from sklearn.linear_model import Lasso\n",
    "from sklearn.linear_model import LassoCV\n",
    "from sklearn.feature_selection import SelectKBest, mutual_info_regression,f_regression\n",
    "from sklearn.linear_model import LinearRegression\n",
    "from sklearn.metrics import r2_score\n",
    "from sklearn.metrics import mean_squared_error\n",
    "from sklearn.metrics import mean_absolute_error\n",
    "import matplotlib.pyplot as plt\n",
    "import statsmodels.api as sm\n",
    "from scipy.stats import ttest_ind\n",
    "from scipy import stats\n",
    "import xgboost as xg\n",
    "import pickle\n",
    "alt.data_transformers.disable_max_rows()"
   ]
  },
  {
   "cell_type": "markdown",
   "metadata": {},
   "source": [
    "## Data"
   ]
  },
  {
   "cell_type": "markdown",
   "metadata": {},
   "source": [
    "## Import data"
   ]
  },
  {
   "cell_type": "code",
   "execution_count": null,
   "metadata": {},
   "outputs": [],
   "source": [
    "# import Data into Pandas Frame\n",
    "df = pd.read_csv(\"../data/interim/TransformedData\",delimiter=\",\", index_col=0)"
   ]
  },
  {
   "cell_type": "code",
   "execution_count": null,
   "metadata": {},
   "outputs": [],
   "source": [
    "df.head()"
   ]
  },
  {
   "cell_type": "markdown",
   "metadata": {},
   "source": [
    "### Data structure"
   ]
  },
  {
   "cell_type": "code",
   "execution_count": null,
   "metadata": {},
   "outputs": [],
   "source": [
    "df.info()"
   ]
  },
  {
   "cell_type": "markdown",
   "metadata": {},
   "source": [
    "### Data corrections"
   ]
  },
  {
   "cell_type": "code",
   "execution_count": null,
   "metadata": {},
   "outputs": [],
   "source": [
    "cat_vars = [\n",
    "    \"gender\",\n",
    "    \"condtn\",\n",
    "    \"match\",\n",
    "    \"samerace\",\n",
    "    \"age_o\",\n",
    "    \"race_o\",\n",
    "    \"dec_o\",\n",
    "    \"met_o\",\n",
    "    \"field_cd\",\n",
    "    \"race\",\n",
    "    \"zipcode\",\n",
    "    \"goal\",\n",
    "    \"date\",\n",
    "    \"go_out\",\n",
    "    \"career_c\",\n",
    "    \"dec\",\n",
    "    \"met\",\n",
    "    \"length\",\n",
    "    \"numdat_2\",\n",
    "    \"date_3\",\n",
    "]\n",
    "\n",
    "float_vars = [\n",
    "    \"int_corr\",\n",
    "    \"pf_o_att\",\n",
    "    \"pf_o_sin\",\n",
    "    \"pf_o_int\",\n",
    "    \"pf_o_fun\",\n",
    "    \"pf_o_amb\",\n",
    "    \"pf_o_sha\",\n",
    "    \"income\",\n",
    "    \"attr1_1\",\n",
    "    \"sinc1_1\",\n",
    "    \"intel1_1\",\n",
    "    \"fun1_1\",\n",
    "    \"amb1_1\",\n",
    "    \"shar1_1\",\n",
    "    \"attr4_1\",\n",
    "    \"sinc4_1\",\n",
    "    \"intel4_1\",\n",
    "    \"fun4_1\",\n",
    "    \"amb4_1\",\n",
    "    \"shar4_1\",\n",
    "    \"attr2_1\",\n",
    "    \"sinc2_1\",\n",
    "    \"intel2_1\",\n",
    "    \"fun2_1\",\n",
    "    \"amb2_1\",\n",
    "    \"shar2_1\"\n",
    "]\n",
    "\n",
    "int_vars = [\n",
    "    \"gender\",    \n",
    "    \"samerace\",\n",
    "     \"met\", \n",
    "     \"age_o\",\n",
    "    \"race_o\",\n",
    "    \"dec_o\",\n",
    "    \"met_o\",\n",
    "    \"attr_o\",\n",
    "    \"sinc_o\",\n",
    "    \"intel_o\",\n",
    "    \"fun_o\",\n",
    "    \"amb_o\",\n",
    "    \"shar_o\",\n",
    "    \"like_o\",\n",
    "    \"prob_o\",\n",
    "    \"age\",\n",
    "    \"imprace\",\n",
    "    \"imprelig\",\n",
    "    \"sports\",\n",
    "    \"tvsports\",\n",
    "    \"exercise\",\n",
    "    \"dining\",\n",
    "    \"museums\",\n",
    "    \"art\",\n",
    "    \"hiking\",\n",
    "    \"gaming\",\n",
    "    \"clubbing\",\n",
    "    \"reading\",\n",
    "    \"tv\",\n",
    "    \"theater\",\n",
    "    \"movies\",\n",
    "    \"concerts\",\n",
    "    \"music\",\n",
    "    \"shopping\",\n",
    "    \"yoga\",\n",
    "    \"exphappy\",\n",
    "    \"attr3_1\",\n",
    "    \"sinc3_1\",\n",
    "    \"intel3_1\",\n",
    "    \"fun3_1\",\n",
    "    \"amb3_1\",\n",
    "    \"attr5_1\",\n",
    "    \"sinc5_1\",\n",
    "    \"intel5_1\",\n",
    "    \"fun5_1\",\n",
    "    \"amb5_1\",\n",
    "    \"attr\",\n",
    "    \"sinc\",\n",
    "    \"intel\",\n",
    "    \"fun\",\n",
    "    \"amb\",\n",
    "    \"shar\",\n",
    "    \"like\",\n",
    "    \"prob\",\n",
    "    \"attr1_s\",\n",
    "    \"sinc1_s\",\n",
    "    \"intel1_s\",\n",
    "    \"fun1_s\",\n",
    "    \"amb1_s\",\n",
    "    \"shar1_s\",\n",
    "    \"attr3_s\",\n",
    "    \"sinc3_s\",\n",
    "    \"intel3_s\",\n",
    "    \"fun3_s\",\n",
    "    \"amb3_s\",\n",
    "    \"satis_2\",\n",
    "    \"iid\",\n",
    "    \"id\",\n",
    "    \"idg\",\n",
    "    \"wave\",\n",
    "    \"round\",\n",
    "    \"order\",\n",
    "    \"partner\",\n",
    "    \"pid\",\n",
    "    \"expnum\",\n",
    "    \"you_call\",\n",
    "    \"them_cal\",\n",
    "    \"numdat_3\",\n",
    "    \"num_in_3\",\n",
    "    \"position\",\n",
    "    \"positin1\",\n",
    "]\n",
    "\n",
    "str_vars = [\n",
    "    \"field\",\n",
    "    \"from\",\n",
    "    \"career\"\n",
    "]\n",
    "\n",
    "unused_vars = [\n",
    "    \"undergrd\",\n",
    "    \"mn_sat\",\n",
    "    \"tuition\"\n",
    "]\n"
   ]
  },
  {
   "cell_type": "code",
   "execution_count": null,
   "metadata": {},
   "outputs": [],
   "source": [
    "#df[cat_vars]=df[cat_vars].astype(\"category\",copy=False)\n",
    "df[float_vars]=df[float_vars].astype(\"float\",copy=False)\n",
    "df[str_vars]=df[str_vars].astype(\"str\",copy=False)"
   ]
  },
  {
   "cell_type": "code",
   "execution_count": null,
   "metadata": {},
   "outputs": [],
   "source": [
    "df2=df[float_vars + int_vars].fillna(0).copy()\n",
    "dflike=df2[\"like\"]\n",
    "df2.drop(columns=\"like\",inplace=True)\n",
    "df = df.rename(columns={\"fun\": \"Humor\", \"shar\": \"Shared_Interests\", \"attr\": \"Attractivity\", \"prob\": \"Probability\", \"intel\": \"Intelligence\", \"sinc\": \"Sincerety\", \"amb\": \"Ambition\", \"age\": \"Age\", \"like\": \"Like\"})\n",
    "df2 = df2.rename(columns={\"fun\": \"Humor\", \"shar\": \"Shared_Interests\", \"attr\": \"Attractivity\", \"prob\": \"Probability\", \"intel\": \"Intelligence\", \"sinc\": \"Sincerety\", \"amb\": \"Ambition\", \"age\": \"Age\", \"like\": \"Like\"})"
   ]
  },
  {
   "cell_type": "code",
   "execution_count": null,
   "metadata": {},
   "outputs": [],
   "source": [
    "variables = ['Attractivity', 'Age','Sincerety', 'Intelligence', 'Humor', 'Ambition', 'Shared_Interests', 'Probability','Like']\n",
    "df = df[variables].fillna(value={\"income\":0})"
   ]
  },
  {
   "attachments": {},
   "cell_type": "markdown",
   "metadata": {},
   "source": [
    "# Use SelectKBest to determine most influential features for regression\n",
    "\n",
    "https://scikit-learn.org/stable/modules/generated/sklearn.feature_selection.SelectKBest.html"
   ]
  },
  {
   "cell_type": "code",
   "execution_count": null,
   "metadata": {},
   "outputs": [],
   "source": [
    "#Suppose, we select 20 features with top 20 Fisher scores\n",
    "selector = SelectKBest(f_regression,k=20 )\n",
    "X_new = selector.fit(df2, dflike)\n",
    "names = df2.columns.values[selector.get_support()]\n",
    "scores = selector.scores_[selector.get_support()]\n",
    "names_scores = list(zip(names, scores))\n",
    "ns_df = pd.DataFrame(data = names_scores, columns=['Feat_names', 'F_Scores'])\n",
    "#Sort the dataframe for better visualization\n",
    "ns_df_sorted = ns_df.sort_values(['F_Scores', 'Feat_names'], ascending = [False, True])"
   ]
  },
  {
   "cell_type": "code",
   "execution_count": null,
   "metadata": {},
   "outputs": [],
   "source": [
    "a=sns.barplot(ns_df_sorted,y=\"Feat_names\",x=\"F_Scores\")\n",
    "#a.figure.set_size_inches(20,20)"
   ]
  },
  {
   "cell_type": "code",
   "execution_count": null,
   "metadata": {},
   "outputs": [],
   "source": [
    "g=sns.displot(\n",
    "    data=df.isna().melt(value_name=\"NaN\"),\n",
    "    y=\"variable\",\n",
    "    hue=\"NaN\",\n",
    "    multiple=\"fill\",\n",
    ")\n",
    "g.set_axis_labels(\"Share\", \"Variables\")\n",
    "plt.title('NaN share of the observations per variable')"
   ]
  },
  {
   "attachments": {},
   "cell_type": "markdown",
   "metadata": {},
   "source": [
    "Drop NAs"
   ]
  },
  {
   "cell_type": "code",
   "execution_count": null,
   "metadata": {},
   "outputs": [],
   "source": [
    "df.isna().sum()"
   ]
  },
  {
   "cell_type": "code",
   "execution_count": null,
   "metadata": {},
   "outputs": [],
   "source": [
    "df.dropna(inplace=True)\n",
    "df.reset_index(inplace=True, drop=True)"
   ]
  },
  {
   "cell_type": "code",
   "execution_count": null,
   "metadata": {},
   "outputs": [],
   "source": [
    "g=sns.displot(\n",
    "    data=df.isna().melt(value_name=\"NaN\"),\n",
    "    y=\"variable\",\n",
    "    hue=\"NaN\",\n",
    "    multiple=\"fill\",\n",
    ")\n",
    "g.set_axis_labels(\"Share\", \"Variables\")\n",
    "plt.title('NaN share of the observations per variable ')\n"
   ]
  },
  {
   "cell_type": "markdown",
   "metadata": {},
   "source": [
    "### Variable lists"
   ]
  },
  {
   "cell_type": "code",
   "execution_count": null,
   "metadata": {},
   "outputs": [],
   "source": [
    "y_label = variables.pop()\n",
    "features = variables\n",
    "\n",
    "X = df[features]\n",
    "y = df[y_label]"
   ]
  },
  {
   "cell_type": "code",
   "execution_count": null,
   "metadata": {},
   "outputs": [],
   "source": [
    "y_label"
   ]
  },
  {
   "cell_type": "code",
   "execution_count": null,
   "metadata": {},
   "outputs": [],
   "source": [
    "features"
   ]
  },
  {
   "cell_type": "markdown",
   "metadata": {},
   "source": [
    "### Data splitting"
   ]
  },
  {
   "cell_type": "code",
   "execution_count": null,
   "metadata": {},
   "outputs": [],
   "source": [
    "X_train, X_test, y_train, y_test = train_test_split(X, y, \n",
    "                                                    test_size=0.2, \n",
    "                                                    shuffle=True,\n",
    "                                                    random_state=42)"
   ]
  },
  {
   "cell_type": "markdown",
   "metadata": {},
   "source": [
    "## Analysis"
   ]
  },
  {
   "cell_type": "markdown",
   "metadata": {},
   "source": [
    "### Descriptive statistics"
   ]
  },
  {
   "cell_type": "code",
   "execution_count": null,
   "metadata": {},
   "outputs": [],
   "source": [
    "df.describe().T"
   ]
  },
  {
   "cell_type": "markdown",
   "metadata": {},
   "source": [
    "### Exploratory data analysis"
   ]
  },
  {
   "cell_type": "code",
   "execution_count": null,
   "metadata": {},
   "outputs": [],
   "source": [
    "alt.Chart(df).mark_bar().encode(\n",
    "    alt.X(alt.repeat(\"column\"), type=\"quantitative\", bin=True),\n",
    "    y='count()',\n",
    ").properties(\n",
    "    width=150,\n",
    "    height=150\n",
    ").repeat(\n",
    "    column=features\n",
    ")"
   ]
  },
  {
   "cell_type": "code",
   "execution_count": null,
   "metadata": {},
   "outputs": [],
   "source": [
    "sns.pairplot(df, y_vars='Like')"
   ]
  },
  {
   "cell_type": "code",
   "execution_count": null,
   "metadata": {},
   "outputs": [],
   "source": [
    "b=sns.violinplot(df)\n",
    "b.figure.set_size_inches(20,10)"
   ]
  },
  {
   "cell_type": "code",
   "execution_count": null,
   "metadata": {},
   "outputs": [],
   "source": [
    "c=sns.boxplot(df)\n",
    "c.figure.set_size_inches(20,10)\n",
    "c.set(title=\"Boxplot über Features\")"
   ]
  },
  {
   "cell_type": "markdown",
   "metadata": {},
   "source": [
    "### Relationships"
   ]
  },
  {
   "cell_type": "code",
   "execution_count": null,
   "metadata": {},
   "outputs": [],
   "source": [
    "# inspect correlation between outcome and possible predictors\n",
    "corr = df.corr()\n",
    "corr['Like'].sort_values(ascending=False)"
   ]
  },
  {
   "cell_type": "code",
   "execution_count": null,
   "metadata": {},
   "outputs": [],
   "source": [
    "corr.style.background_gradient(cmap='Blues')"
   ]
  },
  {
   "attachments": {},
   "cell_type": "markdown",
   "metadata": {},
   "source": [
    "## Model Regression"
   ]
  },
  {
   "cell_type": "markdown",
   "metadata": {},
   "source": [
    "### Select model"
   ]
  },
  {
   "cell_type": "code",
   "execution_count": null,
   "metadata": {},
   "outputs": [],
   "source": [
    "# select the linear regression model\n",
    "reg = LinearRegression()\n"
   ]
  },
  {
   "attachments": {},
   "cell_type": "markdown",
   "metadata": {},
   "source": [
    "### Training and validation Regression"
   ]
  },
  {
   "cell_type": "code",
   "execution_count": null,
   "metadata": {},
   "outputs": [],
   "source": [
    "scores = cross_val_score(reg, X_train, y_train, cv=5, scoring='neg_mean_squared_error') *-1\n",
    "# store cross-validation scores\n",
    "df_scores = pd.DataFrame({\"lr\": scores})\n",
    "\n",
    "# reset index to match the number of folds\n",
    "df_scores.index += 1\n",
    "\n",
    "# print dataframe\n",
    "df_scores.style.background_gradient(cmap='Blues')"
   ]
  },
  {
   "cell_type": "code",
   "execution_count": null,
   "metadata": {},
   "outputs": [],
   "source": [
    "alt.Chart(df_scores.reset_index()).mark_line(\n",
    "     point=alt.OverlayMarkDef()\n",
    ").encode(\n",
    "    x=alt.X(\"index\", bin=False, title=\"Fold\", axis=alt.Axis(tickCount=5)),\n",
    "    y=alt.Y(\"lr\", aggregate=\"mean\", title=\"Mean squared error (MSE)\")\n",
    ")"
   ]
  },
  {
   "cell_type": "code",
   "execution_count": null,
   "metadata": {},
   "outputs": [],
   "source": [
    "df_scores.describe().T"
   ]
  },
  {
   "cell_type": "markdown",
   "metadata": {},
   "source": [
    "### Fit model"
   ]
  },
  {
   "cell_type": "code",
   "execution_count": null,
   "metadata": {},
   "outputs": [],
   "source": [
    "# Fit the model to the data\n",
    "reg.fit(X_train, y_train)"
   ]
  },
  {
   "cell_type": "code",
   "execution_count": null,
   "metadata": {},
   "outputs": [],
   "source": [
    "# intercept\n",
    "intercept = pd.DataFrame({\n",
    "    \"Name\": [\"Intercept\"],\n",
    "    \"Coefficient\":[reg.intercept_]\n",
    "    ,\"reg\":\"MultiLinear\"}\n",
    "    )\n",
    "\n",
    "# make a slope table\n",
    "slope = pd.DataFrame({\n",
    "    \"Name\": features,\n",
    "    \"coeff\": reg.coef_}\n",
    ")\n",
    "\n",
    "# combine estimates of intercept and slopes\n",
    "table = pd.concat([intercept, slope], ignore_index=True, sort=False)\n",
    "\n",
    "round(table, 3)"
   ]
  },
  {
   "cell_type": "markdown",
   "metadata": {},
   "source": [
    "### Evaluation on test set"
   ]
  },
  {
   "cell_type": "code",
   "execution_count": null,
   "metadata": {},
   "outputs": [],
   "source": [
    "# obtain predictions\n",
    "y_pred = reg.predict(X_test)"
   ]
  },
  {
   "cell_type": "code",
   "execution_count": null,
   "metadata": {},
   "outputs": [],
   "source": [
    "print(mean_absolute_error(y_test, y_pred).round(3))\n",
    "mean_squared_error(y_test, y_pred, squared=False).round(3)\n",
    "mean_squared_error(y_test, y_pred).round(3)\n",
    "r2_score(y_test, y_pred).round(3)"
   ]
  },
  {
   "cell_type": "code",
   "execution_count": null,
   "metadata": {},
   "outputs": [],
   "source": [
    "importance = np.abs(reg.coef_)\n",
    "\n",
    "df_imp = pd.DataFrame({\"Coefficient\": importance, \n",
    "                       \"Name\": features,\"reg\":\"MultiLinear\"})\n",
    "df_imp=pd.concat([intercept,df_imp])\n",
    "df_imp"
   ]
  },
  {
   "cell_type": "markdown",
   "metadata": {},
   "source": [
    "### Save model\n"
   ]
  },
  {
   "attachments": {},
   "cell_type": "markdown",
   "metadata": {},
   "source": [
    "\n",
    "Save your model in the folder `models/`. Use a meaningful Name and a timestamp."
   ]
  },
  {
   "cell_type": "code",
   "execution_count": null,
   "metadata": {},
   "outputs": [],
   "source": [
    "folder = '../models/'\n",
    "pkl_filename_reg = 'clf_reg_20221222.pkl'\n",
    "with open(folder + pkl_filename_reg, 'wb') as file:\n",
    "    pickle.dump(reg, file)"
   ]
  },
  {
   "cell_type": "code",
   "execution_count": null,
   "metadata": {},
   "outputs": [],
   "source": [
    "with open(folder + pkl_filename_reg, 'rb') as file:\n",
    "    pickle_model = pickle.load(file)\n",
    "\n",
    "pickle_model"
   ]
  },
  {
   "attachments": {},
   "cell_type": "markdown",
   "metadata": {},
   "source": [
    "# Model Lasso\n"
   ]
  },
  {
   "cell_type": "code",
   "execution_count": null,
   "metadata": {},
   "outputs": [],
   "source": [
    "lasso = LassoCV(cv=5,random_state=0,max_iter=15000)\n",
    "lasso.fit(X_train,y_train)"
   ]
  },
  {
   "cell_type": "code",
   "execution_count": null,
   "metadata": {},
   "outputs": [],
   "source": [
    "lasso.alpha_"
   ]
  },
  {
   "cell_type": "code",
   "execution_count": null,
   "metadata": {},
   "outputs": [],
   "source": [
    "# Set best alpha\n",
    "lasso_best = Lasso(alpha=lasso.alpha_)\n",
    "lasso_best.fit(X_train, y_train)"
   ]
  },
  {
   "cell_type": "code",
   "execution_count": null,
   "metadata": {},
   "outputs": [],
   "source": [
    "print(list(zip(lasso_best.coef_, X)))"
   ]
  },
  {
   "cell_type": "code",
   "execution_count": null,
   "metadata": {},
   "outputs": [],
   "source": [
    "print('R squared training set', round(lasso_best.score(X_train, y_train)*100, 2))\n",
    "print('R squared test set', round(lasso_best.score(X_test, y_test)*100, 2))"
   ]
  },
  {
   "cell_type": "code",
   "execution_count": null,
   "metadata": {},
   "outputs": [],
   "source": [
    "mean_squared_error(y_test, lasso_best.predict(X_test))"
   ]
  },
  {
   "cell_type": "markdown",
   "metadata": {},
   "source": []
  },
  {
   "cell_type": "code",
   "execution_count": null,
   "metadata": {},
   "outputs": [],
   "source": [
    "importance = np.abs(lasso_best.coef_)\n",
    "interceptLasso = pd.DataFrame({\n",
    "    \"Name\": [\"Intercept\"],\n",
    "    \"Coefficient\":[lasso.intercept_]\n",
    "    ,\"reg\":\"Lasso\"}\n",
    "    )\n",
    "df_lasso = pd.DataFrame({\"Coefficient\": importance, \n",
    "                       \"Name\": features,\"reg\":\"Lasso\"})\n",
    "df_lasso=pd.concat([interceptLasso,df_lasso])\n",
    "dfdisplay=pd.concat([df_imp,df_lasso])\n",
    "dfdisplay"
   ]
  },
  {
   "cell_type": "code",
   "execution_count": null,
   "metadata": {},
   "outputs": [],
   "source": [
    "plt.semilogx(lasso.alphas_, lasso.mse_path_, \":\")\n",
    "plt.plot(\n",
    "    lasso.alphas_ ,\n",
    "    lasso.mse_path_.mean(axis=-1),\n",
    "    \"k\",\n",
    "    label=\"Average across the folds\",\n",
    "    linewidth=2,\n",
    ")\n",
    "plt.axvline(\n",
    "    lasso.alpha_, linestyle=\"--\", color=\"k\", label=\"alpha: CV estimate\"\n",
    ")\n",
    "\n",
    "plt.legend()\n",
    "plt.xlabel(\"alphas\")\n",
    "plt.ylabel(\"Mean square error\")\n",
    "plt.title(\"Mean square error on each fold\")\n",
    "plt.axis(\"tight\")\n"
   ]
  },
  {
   "cell_type": "code",
   "execution_count": null,
   "metadata": {},
   "outputs": [],
   "source": [
    "folder = '../models/'\n",
    "pkl_filenamelasso = 'clf_lasso_20221222.pkl'\n",
    "with open(folder + pkl_filenamelasso, 'wb') as file:\n",
    "    pickle.dump(lasso_best, file)"
   ]
  },
  {
   "attachments": {},
   "cell_type": "markdown",
   "metadata": {},
   "source": [
    "# XG Boost"
   ]
  },
  {
   "cell_type": "code",
   "execution_count": null,
   "metadata": {},
   "outputs": [],
   "source": [
    "regxg= xg.XGBRegressor(eval_metric='rmsle',booster='gblinear')"
   ]
  },
  {
   "cell_type": "code",
   "execution_count": null,
   "metadata": {},
   "outputs": [],
   "source": [
    "regxgnolin= xg.XGBRegressor(eval_metric='rmsle')"
   ]
  },
  {
   "cell_type": "code",
   "execution_count": null,
   "metadata": {},
   "outputs": [],
   "source": [
    "param_grid = { \"n_estimators\": [100,500, 600, 700],\n",
    "              \"learning_rate\": [0.01, 0.015,0.08,0.5]}"
   ]
  },
  {
   "cell_type": "code",
   "execution_count": null,
   "metadata": {},
   "outputs": [],
   "source": [
    "param_grid_nolinear = {\"max_depth\": [2,5, 8, 10],\n",
    "              \"n_estimators\": [100,500, 600, 700],\n",
    "              \"learning_rate\": [0.01, 0.015,0.08,0.5]}"
   ]
  },
  {
   "cell_type": "code",
   "execution_count": null,
   "metadata": {},
   "outputs": [],
   "source": [
    "searchnolinear = GridSearchCV(regxgnolin, param_grid_nolinear, cv=5).fit(X_train, y_train)\n",
    "\n",
    "print(\"The best hyperparameters are \",searchnolinear.best_params_)"
   ]
  },
  {
   "cell_type": "code",
   "execution_count": null,
   "metadata": {},
   "outputs": [],
   "source": [
    "search = GridSearchCV(regxg, param_grid, cv=5).fit(X_train, y_train)\n",
    "\n",
    "print(\"The best hyperparameters are \",search.best_params_)"
   ]
  },
  {
   "cell_type": "code",
   "execution_count": null,
   "metadata": {},
   "outputs": [],
   "source": [
    "regxg=xg.XGBRegressor(learning_rate = search.best_params_[\"learning_rate\"],\n",
    "                           n_estimators  = search.best_params_[\"n_estimators\"],booster='gblinear')\n",
    "                          # max_depth     = search.best_params_[\"max_depth\"],booster='gblinear')\n",
    "\n",
    "regxg.fit(X_train, y_train)"
   ]
  },
  {
   "cell_type": "code",
   "execution_count": null,
   "metadata": {},
   "outputs": [],
   "source": [
    "regxgnolin=xg.XGBRegressor(learning_rate = searchnolinear.best_params_[\"learning_rate\"],\n",
    "                           n_estimators  = searchnolinear.best_params_[\"n_estimators\"],\n",
    "                           max_depth = searchnolinear.best_params_[\"max_depth\"])\n",
    "\n",
    "regxgnolin.fit(X_train, y_train)"
   ]
  },
  {
   "cell_type": "code",
   "execution_count": null,
   "metadata": {},
   "outputs": [],
   "source": [
    "predictionsnolin = regxgnolin.predict(X_test)"
   ]
  },
  {
   "cell_type": "code",
   "execution_count": null,
   "metadata": {},
   "outputs": [],
   "source": [
    "predictions = regxg.predict(X_test)"
   ]
  },
  {
   "attachments": {},
   "cell_type": "markdown",
   "metadata": {},
   "source": [
    "Can only display Coefficienticients for the Linear Part of XGBoost"
   ]
  },
  {
   "cell_type": "code",
   "execution_count": null,
   "metadata": {},
   "outputs": [],
   "source": [
    "regxg.coef_\n",
    "importance = np.abs(regxg.coef_)\n",
    "interceptXG = pd.DataFrame({\n",
    "    \"Name\": [\"Intercept\"],\n",
    "    \"Coefficient\":regxg.intercept_\n",
    "    ,\"reg\":\"XGBoost\"}\n",
    "    )\n",
    "df_xgboost = pd.DataFrame({\"Coefficient\": importance, \n",
    "                       \"Name\": features,\"reg\":\"XGBoost\"})\n",
    "df_xgboost= pd.concat([interceptXG,df_xgboost])\n",
    "dfdisplay=pd.concat([df_imp,df_lasso,df_xgboost\n",
    "])"
   ]
  },
  {
   "cell_type": "code",
   "execution_count": null,
   "metadata": {},
   "outputs": [],
   "source": [
    "folder = '../models/'\n",
    "pkl_filenamexgboost = 'clf_xgboost_20221222.pkl'\n",
    "with open(folder + pkl_filenamexgboost, 'wb') as file:\n",
    "    pickle.dump(regxg, file)"
   ]
  },
  {
   "cell_type": "code",
   "execution_count": null,
   "metadata": {},
   "outputs": [],
   "source": [
    "folder = '../models/'\n",
    "pkl_filenamexgboostnolin = 'clf_xgboostnolinear_20221222.pkl'\n",
    "with open(folder + pkl_filenamexgboostnolin, 'wb') as file:\n",
    "    pickle.dump(regxgnolin, file)"
   ]
  },
  {
   "attachments": {},
   "cell_type": "markdown",
   "metadata": {},
   "source": [
    "# Model Comparison"
   ]
  },
  {
   "cell_type": "code",
   "execution_count": null,
   "metadata": {},
   "outputs": [],
   "source": [
    "Compdf = pd.DataFrame({\"Type\": [\"MAE\", \"RMSE\", \"MSE\", \"R2\", \"MAE\", \"RMSE\", \"MSE\", \"R2\", \"MAE\", \"RMSE\", \"MSE\", \"R2\", \"MAE\", \"RMSE\", \"MSE\", \"R2\"],\n",
    " \"Values\": [mean_absolute_error(y_test, y_pred).round(3), mean_squared_error(y_test, y_pred, squared=False).round(3), mean_squared_error(y_test, y_pred).round(\n",
    "    3), r2_score(y_test, y_pred).round(3), mean_absolute_error(y_test, lasso_best.predict(X_test)).round(3), mean_squared_error(y_test, lasso_best.predict(X_test), squared=False).round(3), mean_squared_error(y_test, lasso_best.predict(X_test)).round(3), r2_score(y_test, lasso_best.predict(X_test)).round(3),\n",
    "    mean_absolute_error(y_test, predictions).round(3), mean_squared_error(y_test, predictions, squared=False).round(3), mean_squared_error(y_test, predictions).round(\n",
    "    3), r2_score(y_test, predictions).round(3), mean_absolute_error(y_test, predictionsnolin).round(3), mean_squared_error(y_test, predictionsnolin, squared=False).round(3), mean_squared_error(y_test, predictionsnolin).round(\n",
    "    3), r2_score(y_test, predictionsnolin).round(3)],\"Model\":[\"Multiple Regresion\",\"Multiple Regresion\",\"Multiple Regresion\",\"Multiple Regresion\",\"Lasso\",\"Lasso\",\"Lasso\",\"Lasso\",\"XGBOOST\",\"XGBOOST\",\"XGBOOST\",\"XGBOOST\",\"XGBOOST_NO_LINEAR\",\"XGBOOST_NO_LINEAR\",\"XGBOOST_NO_LINEAR\",\"XGBOOST_NO_LINEAR\"]})"
   ]
  },
  {
   "cell_type": "code",
   "execution_count": null,
   "metadata": {},
   "outputs": [],
   "source": [
    "sns.barplot(Compdf,y=\"Type\",x=\"Values\",hue=\"Model\")"
   ]
  },
  {
   "cell_type": "code",
   "execution_count": null,
   "metadata": {},
   "outputs": [],
   "source": [
    "sns.barplot(dfdisplay,y=\"Name\",x=\"Coefficient\",hue=\"reg\")"
   ]
  },
  {
   "cell_type": "code",
   "execution_count": null,
   "metadata": {},
   "outputs": [],
   "source": [
    "scoring = ['r2', 'neg_mean_absolute_percentage_error', 'neg_mean_squared_error']\n",
    "r_multi=permutation_importance(regxg,X_test,y_test,n_repeats=30,random_state=0,scoring=scoring)\n",
    "for metric in r_multi:\n",
    "    print(f\"{metric}\")\n",
    "    r = r_multi[metric]\n",
    "    for i in r.importances_mean.argsort()[::-1]:\n",
    "      #  if r.importances_mean[i] - 2 * r.importances_std[i] > 0:\n",
    "            print(f\"    {features[i]:<8}\"\n",
    "                  f\"{r.importances_mean[i]:.3f}\"\n",
    "                  f\" +/- {r.importances_std[i]:.3f}\")"
   ]
  },
  {
   "cell_type": "code",
   "execution_count": null,
   "metadata": {},
   "outputs": [],
   "source": [
    "xg.plot_importance(regxgnolin)"
   ]
  },
  {
   "cell_type": "code",
   "execution_count": null,
   "metadata": {},
   "outputs": [],
   "source": [
    "dfscatter_Multilin= pd.DataFrame({'True Values':y_test,\"Predicted Values\":reg.predict(X_test),\"type\":\"Multilinear\"})\n",
    "dfscatter_Lasso= pd.DataFrame({'True Values':y_test,\"Predicted Values\":lasso_best.predict(X_test),\"type\":\"Lasso\"})\n",
    "dfscatter_XGboost=pd.DataFrame({'True Values':y_test,\"Predicted Values\":predictions,\"type\":\"XGBOOST\"})\n",
    "dfscatter_XGboostnolin=pd.DataFrame({'True Values':y_test,\"Predicted Values\":predictionsnolin,\"type\":\"XGBOOSTnolin\"})\n",
    "dfscatter=pd.concat([dfscatter_Multilin,dfscatter_Lasso,dfscatter_XGboost,dfscatter_XGboostnolin])"
   ]
  },
  {
   "cell_type": "code",
   "execution_count": null,
   "metadata": {},
   "outputs": [],
   "source": [
    "d=sns.boxplot(dfscatter,hue=\"type\",x=\"True Values\",y=\"Predicted Values\")\n",
    "d.figure.set_size_inches(20,10)"
   ]
  },
  {
   "cell_type": "code",
   "execution_count": null,
   "metadata": {},
   "outputs": [],
   "source": [
    "y_predtestreg= reg.predict(X_train)\n",
    "y_predtestlasso=lasso.predict(X_train)\n",
    "y_predtestXG = regxg.predict(X_train)\n",
    "y_predtestXGnoLin= regxgnolin.predict(X_train)\n",
    "y_predreg= reg.predict(X_test)\n",
    "y_predlasso=lasso.predict(X_test)\n",
    "y_predXG = regxg.predict(X_test)\n",
    "y_predXGnoLin= regxgnolin.predict(X_test)\n",
    "fig, ax=plt.subplots(2,4)\n",
    "sns.residplot(x=y_predtestreg, y=y_train, scatter_kws={\"s\": 80},ax=ax[0,0],lowess=True,line_kws=dict(color=\"r\"))\n",
    "sns.residplot(x=y_predtestlasso, y=y_train, scatter_kws={\"s\": 80},ax=ax[0,1],lowess=True,line_kws=dict(color=\"r\"))\n",
    "sns.residplot(x=y_predtestXG, y=y_train, scatter_kws={\"s\": 80},ax=ax[0,2],lowess=True,line_kws=dict(color=\"r\"))\n",
    "sns.residplot(x=y_predtestXGnoLin, y=y_train, scatter_kws={\"s\": 80},ax=ax[0,3],lowess=True,line_kws=dict(color=\"r\"))\n",
    "sns.residplot(x=y_predreg, y=y_test, scatter_kws={\"s\": 80},ax=ax[1,0],lowess=True,line_kws=dict(color=\"r\"))\n",
    "sns.residplot(x=y_predlasso, y=y_test, scatter_kws={\"s\": 80},ax=ax[1,1],lowess=True,line_kws=dict(color=\"r\"))\n",
    "sns.residplot(x=y_predXG, y=y_test, scatter_kws={\"s\": 80},ax=ax[1,2],lowess=True,line_kws=dict(color=\"r\"))\n",
    "sns.residplot(x=y_predXGnoLin, y=y_test, scatter_kws={\"s\": 80},ax=ax[1,3],lowess=True,line_kws=dict(color=\"r\"))\n",
    "sns.set_theme(style=\"whitegrid\")\n",
    "fig.suptitle(\"Residualplots\")\n",
    "ax[0,0].set_title(\"Regression_Train\")\n",
    "ax[0,1].set_title(\"Lasso_Train\")\n",
    "ax[0,2].set_title(\"XGBoost_Train\")\n",
    "ax[0,3].set_title(\"XGBoostNonLinear_Train\")\n",
    "ax[1,0].set_title(\"Regression_Test\")\n",
    "ax[1,1].set_title(\"Lasso_Test\")\n",
    "ax[1,2].set_title(\"XGBoost_Test\")\n",
    "ax[1,3].set_title(\"XGBoostNonLinear_Test\")\n",
    "fig.set_size_inches(30,10)\n"
   ]
  },
  {
   "attachments": {},
   "cell_type": "markdown",
   "metadata": {},
   "source": [
    "### Load Models"
   ]
  },
  {
   "cell_type": "code",
   "execution_count": null,
   "metadata": {},
   "outputs": [],
   "source": [
    "with open(folder + pkl_filename_reg, 'rb') as file:\n",
    "    pickle_modelreg = pickle.load(file)\n",
    "pickle_modelreg"
   ]
  },
  {
   "cell_type": "code",
   "execution_count": null,
   "metadata": {},
   "outputs": [],
   "source": [
    "with open(folder + pkl_filenamelasso, 'rb') as file:\n",
    "    pickle_modelLasso = pickle.load(file)\n",
    "pickle_modelLasso"
   ]
  },
  {
   "cell_type": "code",
   "execution_count": null,
   "metadata": {},
   "outputs": [],
   "source": [
    "with open(folder + pkl_filenamexgboost, 'rb') as file:\n",
    "    pickle_modelxgboost = pickle.load(file)\n",
    "pickle_modelxgboost"
   ]
  },
  {
   "cell_type": "code",
   "execution_count": null,
   "metadata": {},
   "outputs": [],
   "source": [
    "with open(folder + pkl_filenamexgboostnolin, 'rb') as file:\n",
    "    pickle_modelxgboostnolin = pickle.load(file)\n",
    "pickle_modelxgboostnolin"
   ]
  },
  {
   "attachments": {},
   "cell_type": "markdown",
   "metadata": {},
   "source": [
    "# Conclusions\n",
    "\n",
    "- All Four algoryhms define attractiveness as main factor to be liked\n"
   ]
  },
  {
   "attachments": {},
   "cell_type": "markdown",
   "metadata": {},
   "source": [
    "### With the data from this survey and our used statistical methods and classification, , we could answer the following research questions:\n",
    "\n",
    "-   What are the most effective characteristics to achieve a match in opposite sex speed dating?\n",
    "    -   Answer: We can see that Attractiveness is the most important characteristic for a match, followed by Shared Interests and Funniness.\n",
    "\n",
    "To strengthen our main research question, we answered the following sub-questions:\n",
    "\n",
    "-   Do specific characteristics affect the match selection of the survey participants?\n",
    "    -   Answer: Yes, all specific characteristics affect the match selection of the survey participants, some more, some less.\n",
    "-   TODO: Do these specific characteristics occur in both sexes?\n",
    "    - There is no significant correlation between gender and like\n",
    "-   TODO: What type of persons participate in speed dating events?\n",
    "    - No F-Value Significance for Gender or other things besides attributes\n",
    "    \n",
    "-   TODO: Is there a significant difference between the number of men calling women or women calling men after three weeks?\n",
    "\n",
    "TODO: The following hypotheses support our research question:\n",
    "\n",
    "Null hypothesis: \n",
    "-   There is no affection of having specific characteristics regarding match selection of the survey participants\n",
    "-   There is no correlation between shared interests, attributes and getting a match\n",
    "\n",
    "Hypotheses:\n",
    "-   Survey participants who both have the specific characteristics samerace and opposite gender tend to achieve more matches\n",
    "-   Survey participants with a higher income tend to achieve more matches than survey participants with a lower income\n",
    "-   Achieving matches because of having the same specific characteristics occur in both sexes\n",
    "-   Three weeks after the event, males called women more often\n",
    "\n",
    "Wann wird die Nullhypothese abgelehnt?\n",
    "Das Ablehnen der Nullhypothese ist nur dann möglich, wenn der zugehörige p-Wert das Signifikanzniveau oder der t-Wert den kritischen Wert nicht überschreitet"
   ]
  },
  {
   "attachments": {},
   "cell_type": "markdown",
   "metadata": {},
   "source": [
    "# TODO\n",
    "- Conclusion und Einleitungssätze pro Bereich\n",
    "- Models abspeichern\n"
   ]
  }
 ],
 "metadata": {
  "kernelspec": {
   "display_name": "stats",
   "language": "python",
   "name": "python3"
  },
  "language_info": {
   "codemirror_mode": {
    "name": "ipython",
    "version": 3
   },
   "file_extension": ".py",
   "mimetype": "text/x-python",
   "name": "python",
   "nbconvert_exporter": "python",
   "pygments_lexer": "ipython3",
   "version": "3.9.15"
  },
  "orig_nbformat": 4,
  "vscode": {
   "interpreter": {
    "hash": "d658152753fb78692284d722f8665069cf1f80281cff06d1f12baef637756857"
   }
  }
 },
 "nbformat": 4,
 "nbformat_minor": 2
}
