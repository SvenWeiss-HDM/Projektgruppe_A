{
 "cells": [
  {
   "cell_type": "markdown",
   "metadata": {},
   "source": [
    "# Draft analysis \n",
    "\n",
    "---\n",
    "\n",
    "Group name:\n",
    "\n",
    "---\n"
   ]
  },
  {
   "cell_type": "markdown",
   "metadata": {},
   "source": [
    "## Introduction\n",
    "\n",
    "*This section includes an introduction to the project motivation, data, and research question. Include a data dictionary* "
   ]
  },
  {
   "cell_type": "markdown",
   "metadata": {},
   "source": [
    "## Setup"
   ]
  },
  {
   "cell_type": "code",
   "execution_count": null,
   "metadata": {},
   "outputs": [],
   "source": [
    "#Import all necessary libraries\n",
    "%matplotlib inline\n",
    "import numpy as np\n",
    "import pandas as pd\n",
    "import altair as alt\n",
    "import seaborn as sns\n",
    "from sklearn.feature_selection import SelectFromModel\n",
    "from sklearn.model_selection import GridSearchCV\n",
    "from sklearn.model_selection import train_test_split\n",
    "from sklearn.model_selection import cross_val_score\n",
    "from sklearn.inspection import permutation_importance\n",
    "from sklearn.linear_model import Lasso\n",
    "from sklearn.linear_model import LassoCV\n",
    "\n",
    "from sklearn.linear_model import LinearRegression\n",
    "from sklearn.metrics import r2_score\n",
    "from sklearn.metrics import mean_squared_error\n",
    "from sklearn.metrics import mean_absolute_error\n",
    "import matplotlib.pyplot as plt\n",
    "import statsmodels.api as sm\n",
    "from scipy import stats\n",
    "import xgboost as xg\n",
    "import pickle\n",
    "alt.data_transformers.disable_max_rows()"
   ]
  },
  {
   "cell_type": "markdown",
   "metadata": {},
   "source": [
    "## Data"
   ]
  },
  {
   "cell_type": "markdown",
   "metadata": {},
   "source": [
    "## Import data"
   ]
  },
  {
   "cell_type": "code",
   "execution_count": null,
   "metadata": {},
   "outputs": [],
   "source": [
    "# import Data into Pandas Frame\n",
    "df = pd.read_csv(\"../data/interim/TransformedData\",delimiter=\",\", index_col=0)"
   ]
  },
  {
   "cell_type": "code",
   "execution_count": null,
   "metadata": {},
   "outputs": [],
   "source": [
    "df.head()"
   ]
  },
  {
   "cell_type": "markdown",
   "metadata": {},
   "source": [
    "### Data structure"
   ]
  },
  {
   "cell_type": "code",
   "execution_count": null,
   "metadata": {},
   "outputs": [],
   "source": [
    "df.info()"
   ]
  },
  {
   "cell_type": "markdown",
   "metadata": {},
   "source": [
    "### Data corrections"
   ]
  },
  {
   "cell_type": "code",
   "execution_count": null,
   "metadata": {},
   "outputs": [],
   "source": [
    "cat_vars = [\n",
    "    \"gender\", \n",
    "    \"condtn\",\n",
    "    \"match\",\n",
    "    \"samerace\",\n",
    "    \"age_o\",\n",
    "    \"race_o\",\n",
    "    \"dec_o\",\n",
    "    \"met_o\",\n",
    "    \"field_cd\",\n",
    "    \"race\",\n",
    "    \"zipcode\",\n",
    "    \"goal\",\n",
    "    \"date\",\n",
    "    \"go_out\",\n",
    "    \"career_c\",\n",
    "    \"dec\",\n",
    "    \"met\",\n",
    "    \"length\",\n",
    "    \"numdat_2\",\n",
    "    \"date_3\",\n",
    "]\n",
    "\n",
    "float_vars = [\n",
    "    \"int_corr\",\n",
    "    \"pf_o_att\",\n",
    "    \"pf_o_sin\",\n",
    "    \"pf_o_int\",\n",
    "    \"pf_o_fun\",\n",
    "    \"pf_o_amb\",\n",
    "    \"pf_o_sha\",\n",
    "    \"income\",\n",
    "    \"attr1_1\",\n",
    "    \"sinc1_1\",\n",
    "    \"intel1_1\",\n",
    "    \"fun1_1\",\n",
    "    \"amb1_1\",\n",
    "    \"shar1_1\",\n",
    "    \"attr4_1\",\n",
    "    \"sinc4_1\",\n",
    "    \"intel4_1\",\n",
    "    \"fun4_1\",\n",
    "    \"amb4_1\",\n",
    "    \"shar4_1\",\n",
    "    \"attr2_1\",\n",
    "    \"sinc2_1\",\n",
    "    \"intel2_1\",\n",
    "    \"fun2_1\",\n",
    "    \"amb2_1\",\n",
    "    \"shar2_1\"\n",
    "]\n",
    "\n",
    "int_vars = [\n",
    "    \"attr_o\",\n",
    "    \"sinc_o\",\n",
    "    \"intel_o\",\n",
    "    \"fun_o\",\n",
    "    \"amb_o\",\n",
    "    \"shar_o\",\n",
    "    \"like_o\",\n",
    "    \"prob_o\",\n",
    "    \"age\",\n",
    "    \"imprace\",\n",
    "    \"imprelig\",\n",
    "    \"sports\",\n",
    "    \"tvsports\",\n",
    "    \"excersice\",\n",
    "    \"dining\",\n",
    "    \"museums\",\n",
    "    \"art\",\n",
    "    \"hiking\",\n",
    "    \"gaming\",\n",
    "    \"clubbing\",\n",
    "    \"reading\",\n",
    "    \"tv\",\n",
    "    \"theater\",\n",
    "    \"movies\",\n",
    "    \"concerts\",\n",
    "    \"music\",\n",
    "    \"shopping\",\n",
    "    \"yoga\",\n",
    "    \"exhappy\",\n",
    "    \"attr3_1\",\n",
    "    \"sinc3_1\",\n",
    "    \"intel3_1\",\n",
    "    \"fun3_1\",\n",
    "    \"amb3_1\",\n",
    "    \"attr5_1\",\n",
    "    \"sinc5_1\",\n",
    "    \"intel5_1\",\n",
    "    \"fun5_1\",\n",
    "    \"amb5_1\",\n",
    "    \"attr\",\n",
    "    \"sinc\",\n",
    "    \"intel\",\n",
    "    \"fun\",\n",
    "    \"amb\",\n",
    "    \"shar\",\n",
    "    \"like\",\n",
    "    \"prob\",\n",
    "    \"attr1_s\",\n",
    "    \"sinc1_s\",\n",
    "    \"intel1_s\",\n",
    "    \"fun1_s\",\n",
    "    \"amb1_s\",\n",
    "    \"shar1_s\",\n",
    "    \"attr4_s\",\n",
    "    \"sinc4_s\",\n",
    "    \"intel4_s\",\n",
    "    \"fun4_s\",\n",
    "    \"amb4_s\",\n",
    "    \"satis_2\",\n",
    "    \"iid\",\n",
    "    \"id\",\n",
    "    \"idg\",\n",
    "    \"wave\",\n",
    "    \"round\",\n",
    "    \"order\",\n",
    "    \"partner\",\n",
    "    \"pid\",\n",
    "    \"expnum\",\n",
    "    \"you_call\",\n",
    "    \"them_cal\",\n",
    "    \"numdat_3\",\n",
    "    \"num_in_3\",\n",
    "    \"position\",\n",
    "    \"positin1\",\n",
    "]\n",
    "\n",
    "str_vars = [\n",
    "    \"field\",\n",
    "    \"from\",\n",
    "    \"career\"\n",
    "]\n",
    "\n",
    "unused_vars = [\n",
    "    \"undergrd\",\n",
    "    \"mn_sat\",\n",
    "    \"tuition\"\n",
    "]"
   ]
  },
  {
   "cell_type": "code",
   "execution_count": null,
   "metadata": {},
   "outputs": [],
   "source": [
    "df[cat_vars]=df[cat_vars].astype(\"category\",copy=False)\n",
    "df[float_vars]=df[float_vars].astype(\"float\",copy=False)\n",
    "df[str_vars]=df[str_vars].astype(\"str\",copy=False)"
   ]
  },
  {
   "cell_type": "code",
   "execution_count": null,
   "metadata": {},
   "outputs": [],
   "source": [
    "df.rename(columns={\"amb\":\"Ambitionsness\",\"attr\":\"Attractiveness\",\"sinc\":\"Sincerity\",\"fun\":\"Funniness\",\"intel\":\"Intelligence\",\"shar\":\"Percieved shared interests\",\"int_corr\":\"Correlation of interests\"},inplace=True)"
   ]
  },
  {
   "cell_type": "code",
   "execution_count": null,
   "metadata": {},
   "outputs": [],
   "source": [
    "variables = ['Attractiveness', 'Sincerity', 'Intelligence', 'Funniness', 'Ambitionsness', 'Percieved shared interests', 'prob','like']\n",
    "df = df[variables]"
   ]
  },
  {
   "cell_type": "code",
   "execution_count": null,
   "metadata": {},
   "outputs": [],
   "source": [
    "g=sns.displot(\n",
    "    data=df.isna().melt(value_name=\"NaN\"),\n",
    "    y=\"variable\",\n",
    "    hue=\"NaN\",\n",
    "    multiple=\"fill\",\n",
    ")"
   ]
  },
  {
   "attachments": {},
   "cell_type": "markdown",
   "metadata": {},
   "source": [
    "Drop NAs"
   ]
  },
  {
   "cell_type": "code",
   "execution_count": null,
   "metadata": {},
   "outputs": [],
   "source": [
    "df.isna().sum()"
   ]
  },
  {
   "cell_type": "code",
   "execution_count": null,
   "metadata": {},
   "outputs": [],
   "source": [
    "df.dropna(inplace=True)\n",
    "df.reset_index(inplace=True, drop=True)"
   ]
  },
  {
   "cell_type": "code",
   "execution_count": null,
   "metadata": {},
   "outputs": [],
   "source": [
    "g=sns.displot(\n",
    "    data=df.isna().melt(value_name=\"NaN\"),\n",
    "    y=\"variable\",\n",
    "    hue=\"NaN\",\n",
    "    multiple=\"fill\",\n",
    ")"
   ]
  },
  {
   "cell_type": "markdown",
   "metadata": {},
   "source": [
    "### Variable lists"
   ]
  },
  {
   "cell_type": "code",
   "execution_count": null,
   "metadata": {},
   "outputs": [],
   "source": [
    "y_label = variables.pop()\n",
    "features = variables\n",
    "\n",
    "X = df[features]\n",
    "y = df[y_label]"
   ]
  },
  {
   "cell_type": "code",
   "execution_count": null,
   "metadata": {},
   "outputs": [],
   "source": [
    "y_label"
   ]
  },
  {
   "cell_type": "code",
   "execution_count": null,
   "metadata": {},
   "outputs": [],
   "source": [
    "features"
   ]
  },
  {
   "cell_type": "markdown",
   "metadata": {},
   "source": [
    "### Data splitting"
   ]
  },
  {
   "cell_type": "code",
   "execution_count": null,
   "metadata": {},
   "outputs": [],
   "source": [
    "X_train, X_test, y_train, y_test = train_test_split(X, y, \n",
    "                                                    test_size=0.2, \n",
    "                                                    shuffle=True,\n",
    "                                                    random_state=42)"
   ]
  },
  {
   "cell_type": "markdown",
   "metadata": {},
   "source": [
    "## Analysis"
   ]
  },
  {
   "cell_type": "markdown",
   "metadata": {},
   "source": [
    "### Descriptive statistics"
   ]
  },
  {
   "cell_type": "code",
   "execution_count": null,
   "metadata": {},
   "outputs": [],
   "source": [
    "df.describe().T"
   ]
  },
  {
   "cell_type": "markdown",
   "metadata": {},
   "source": [
    "### Exploratory data analysis"
   ]
  },
  {
   "cell_type": "code",
   "execution_count": null,
   "metadata": {},
   "outputs": [],
   "source": [
    "alt.Chart(df).mark_bar().encode(\n",
    "    alt.X(alt.repeat(\"column\"), type=\"quantitative\", bin=True),\n",
    "    y='count()',\n",
    ").properties(\n",
    "    width=150,\n",
    "    height=150\n",
    ").repeat(\n",
    "    column=features\n",
    ")"
   ]
  },
  {
   "cell_type": "code",
   "execution_count": null,
   "metadata": {},
   "outputs": [],
   "source": [
    "sns.pairplot(df, y_vars='like')"
   ]
  },
  {
   "cell_type": "code",
   "execution_count": null,
   "metadata": {},
   "outputs": [],
   "source": [
    "sns.violinplot(df)"
   ]
  },
  {
   "cell_type": "code",
   "execution_count": null,
   "metadata": {},
   "outputs": [],
   "source": [
    "sns.boxplot(df)"
   ]
  },
  {
   "cell_type": "markdown",
   "metadata": {},
   "source": [
    "### Relationships"
   ]
  },
  {
   "cell_type": "code",
   "execution_count": null,
   "metadata": {},
   "outputs": [],
   "source": [
    "# inspect correlation between outcome and possible predictors\n",
    "corr = df.corr()\n",
    "corr['like'].sort_values(ascending=False)"
   ]
  },
  {
   "cell_type": "code",
   "execution_count": null,
   "metadata": {},
   "outputs": [],
   "source": [
    "corr.style.background_gradient(cmap='Blues')"
   ]
  },
  {
   "attachments": {},
   "cell_type": "markdown",
   "metadata": {},
   "source": [
    "## Model Regression"
   ]
  },
  {
   "cell_type": "markdown",
   "metadata": {},
   "source": [
    "### Select model"
   ]
  },
  {
   "cell_type": "code",
   "execution_count": null,
   "metadata": {},
   "outputs": [],
   "source": [
    "# select the linear regression model\n",
    "reg = LinearRegression()\n"
   ]
  },
  {
   "attachments": {},
   "cell_type": "markdown",
   "metadata": {},
   "source": [
    "### Training and validation Regression"
   ]
  },
  {
   "cell_type": "code",
   "execution_count": null,
   "metadata": {},
   "outputs": [],
   "source": [
    "scores = cross_val_score(reg, X_train, y_train, cv=5, scoring='neg_mean_squared_error') *-1\n",
    "# store cross-validation scores\n",
    "df_scores = pd.DataFrame({\"lr\": scores})\n",
    "\n",
    "# reset index to match the number of folds\n",
    "df_scores.index += 1\n",
    "\n",
    "# print dataframe\n",
    "df_scores.style.background_gradient(cmap='Blues')"
   ]
  },
  {
   "cell_type": "code",
   "execution_count": null,
   "metadata": {},
   "outputs": [],
   "source": [
    "alt.Chart(df_scores.reset_index()).mark_line(\n",
    "     point=alt.OverlayMarkDef()\n",
    ").encode(\n",
    "    x=alt.X(\"index\", bin=False, title=\"Fold\", axis=alt.Axis(tickCount=5)),\n",
    "    y=alt.Y(\"lr\", aggregate=\"mean\", title=\"Mean squared error (MSE)\")\n",
    ")"
   ]
  },
  {
   "cell_type": "code",
   "execution_count": null,
   "metadata": {},
   "outputs": [],
   "source": [
    "df_scores.describe().T"
   ]
  },
  {
   "cell_type": "markdown",
   "metadata": {},
   "source": [
    "### Fit model"
   ]
  },
  {
   "cell_type": "code",
   "execution_count": null,
   "metadata": {},
   "outputs": [],
   "source": [
    "# Fit the model to the data\n",
    "reg.fit(X_train, y_train)"
   ]
  },
  {
   "cell_type": "code",
   "execution_count": null,
   "metadata": {},
   "outputs": [],
   "source": [
    "# intercept\n",
    "intercept = pd.DataFrame({\n",
    "    \"Name\": [\"Intercept\"],\n",
    "    \"Coefficient\":[reg.intercept_]}\n",
    "    )\n",
    "\n",
    "# make a slope table\n",
    "slope = pd.DataFrame({\n",
    "    \"Name\": features,\n",
    "    \"Coefficient\": reg.coef_}\n",
    ")\n",
    "\n",
    "# combine estimates of intercept and slopes\n",
    "table = pd.concat([intercept, slope], ignore_index=True, sort=False)\n",
    "\n",
    "round(table, 3)"
   ]
  },
  {
   "cell_type": "markdown",
   "metadata": {},
   "source": [
    "### Evaluation on test set"
   ]
  },
  {
   "cell_type": "code",
   "execution_count": null,
   "metadata": {},
   "outputs": [],
   "source": [
    "# obtain predictions\n",
    "y_pred = reg.predict(X_test)"
   ]
  },
  {
   "cell_type": "code",
   "execution_count": null,
   "metadata": {},
   "outputs": [],
   "source": [
    "print(mean_absolute_error(y_test, y_pred).round(3))\n",
    "mean_squared_error(y_test, y_pred, squared=False).round(3)\n",
    "mean_squared_error(y_test, y_pred).round(3)\n",
    "r2_score(y_test, y_pred).round(3)"
   ]
  },
  {
   "cell_type": "code",
   "execution_count": null,
   "metadata": {},
   "outputs": [],
   "source": [
    "importance = np.abs(reg.coef_)\n",
    "\n",
    "df_imp = pd.DataFrame({\"coeff\": importance, \n",
    "                       \"name\": features,\"reg\":\"MultiLinear\"})\n",
    "df_imp"
   ]
  },
  {
   "cell_type": "markdown",
   "metadata": {},
   "source": [
    "### Save model\n"
   ]
  },
  {
   "cell_type": "markdown",
   "metadata": {},
   "source": [
    "\n",
    "Save your model in the folder `models/`. Use a meaningful name and a timestamp."
   ]
  },
  {
   "cell_type": "code",
   "execution_count": null,
   "metadata": {},
   "outputs": [],
   "source": [
    "folder = '../models/'\n",
    "pkl_filename = 'clf_reg_20221222.pkl'"
   ]
  },
  {
   "cell_type": "code",
   "execution_count": null,
   "metadata": {},
   "outputs": [],
   "source": [
    "with open(folder + pkl_filename, 'wb') as file:\n",
    "    pickle.dump(reg, file)"
   ]
  },
  {
   "cell_type": "code",
   "execution_count": null,
   "metadata": {},
   "outputs": [],
   "source": [
    "with open(folder + pkl_filename, 'rb') as file:\n",
    "    pickle_model = pickle.load(file)\n",
    "\n",
    "pickle_model"
   ]
  },
  {
   "attachments": {},
   "cell_type": "markdown",
   "metadata": {},
   "source": [
    "# Model Lasso\n"
   ]
  },
  {
   "cell_type": "code",
   "execution_count": null,
   "metadata": {},
   "outputs": [],
   "source": [
    "lasso = LassoCV(cv=5,random_state=0,max_iter=15000)\n",
    "lasso.fit(X_train,y_train)"
   ]
  },
  {
   "cell_type": "code",
   "execution_count": null,
   "metadata": {},
   "outputs": [],
   "source": [
    "lasso.alpha_"
   ]
  },
  {
   "cell_type": "code",
   "execution_count": null,
   "metadata": {},
   "outputs": [],
   "source": [
    "# Set best alpha\n",
    "lasso_best = Lasso(alpha=lasso.alpha_)\n",
    "lasso_best.fit(X_train, y_train)"
   ]
  },
  {
   "cell_type": "code",
   "execution_count": null,
   "metadata": {},
   "outputs": [],
   "source": [
    "print(list(zip(lasso_best.coef_, X)))"
   ]
  },
  {
   "cell_type": "code",
   "execution_count": null,
   "metadata": {},
   "outputs": [],
   "source": [
    "print('R squared training set', round(lasso_best.score(X_train, y_train)*100, 2))\n",
    "print('R squared test set', round(lasso_best.score(X_test, y_test)*100, 2))"
   ]
  },
  {
   "cell_type": "code",
   "execution_count": null,
   "metadata": {},
   "outputs": [],
   "source": [
    "mean_squared_error(y_test, lasso_best.predict(X_test))"
   ]
  },
  {
   "cell_type": "markdown",
   "metadata": {},
   "source": []
  },
  {
   "cell_type": "code",
   "execution_count": null,
   "metadata": {},
   "outputs": [],
   "source": [
    "importance = np.abs(lasso_best.coef_)\n",
    "\n",
    "df_lasso = pd.DataFrame({\"coeff\": importance, \n",
    "                       \"name\": features,\"reg\":\"Lasso\"})\n",
    "df_lasso\n",
    "dfdisplay=pd.concat([df_imp,df_lasso])"
   ]
  },
  {
   "cell_type": "code",
   "execution_count": null,
   "metadata": {},
   "outputs": [],
   "source": [
    "plt.semilogx(lasso.alphas_, lasso.mse_path_, \":\")\n",
    "plt.plot(\n",
    "    lasso.alphas_ ,\n",
    "    lasso.mse_path_.mean(axis=-1),\n",
    "    \"k\",\n",
    "    label=\"Average across the folds\",\n",
    "    linewidth=2,\n",
    ")\n",
    "plt.axvline(\n",
    "    lasso.alpha_, linestyle=\"--\", color=\"k\", label=\"alpha: CV estimate\"\n",
    ")\n",
    "\n",
    "plt.legend()\n",
    "plt.xlabel(\"alphas\")\n",
    "plt.ylabel(\"Mean square error\")\n",
    "plt.title(\"Mean square error on each fold\")\n",
    "plt.axis(\"tight\")\n"
   ]
  },
  {
   "attachments": {},
   "cell_type": "markdown",
   "metadata": {},
   "source": [
    "# XG Boost"
   ]
  },
  {
   "cell_type": "code",
   "execution_count": null,
   "metadata": {},
   "outputs": [],
   "source": [
    "regxg= xg.XGBRegressor(eval_metric='rmsle',booster='gblinear')"
   ]
  },
  {
   "cell_type": "code",
   "execution_count": null,
   "metadata": {},
   "outputs": [],
   "source": [
    "regxgnolin= xg.XGBRegressor(eval_metric='rmsle')"
   ]
  },
  {
   "cell_type": "code",
   "execution_count": null,
   "metadata": {},
   "outputs": [],
   "source": [
    "param_grid = { \"n_estimators\": [100,500, 600, 700],\n",
    "              \"learning_rate\": [0.01, 0.015,0.08,0.5]}"
   ]
  },
  {
   "cell_type": "code",
   "execution_count": null,
   "metadata": {},
   "outputs": [],
   "source": [
    "param_grid_nolinear = {\"max_depth\": [2,5, 8, 10],\n",
    "              \"n_estimators\": [100,500, 600, 700],\n",
    "              \"learning_rate\": [0.01, 0.015,0.08]}"
   ]
  },
  {
   "cell_type": "code",
   "execution_count": null,
   "metadata": {},
   "outputs": [],
   "source": [
    "searchnolinear = GridSearchCV(regxgnolin, param_grid_nolinear, cv=5).fit(X_train, y_train)\n",
    "\n",
    "print(\"The best hyperparameters are \",searchnolinear.best_params_)"
   ]
  },
  {
   "cell_type": "code",
   "execution_count": null,
   "metadata": {},
   "outputs": [],
   "source": [
    "search = GridSearchCV(regxg, param_grid, cv=5).fit(X_train, y_train)\n",
    "\n",
    "print(\"The best hyperparameters are \",search.best_params_)"
   ]
  },
  {
   "cell_type": "code",
   "execution_count": null,
   "metadata": {},
   "outputs": [],
   "source": [
    "regxg=xg.XGBRegressor(learning_rate = search.best_params_[\"learning_rate\"],\n",
    "                           n_estimators  = search.best_params_[\"n_estimators\"],booster='gblinear')\n",
    "                          # max_depth     = search.best_params_[\"max_depth\"],booster='gblinear')\n",
    "\n",
    "regxg.fit(X_train, y_train)"
   ]
  },
  {
   "cell_type": "code",
   "execution_count": null,
   "metadata": {},
   "outputs": [],
   "source": [
    "regxgnolin=xg.XGBRegressor(learning_rate = searchnolinear.best_params_[\"learning_rate\"],\n",
    "                           n_estimators  = searchnolinear.best_params_[\"n_estimators\"],\n",
    "                           max_depth = searchnolinear.best_params_[\"max_depth\"])\n",
    "\n",
    "regxgnolin.fit(X_train, y_train)"
   ]
  },
  {
   "cell_type": "code",
   "execution_count": null,
   "metadata": {},
   "outputs": [],
   "source": [
    "predictionsnolin = regxgnolin.predict(X_test)"
   ]
  },
  {
   "cell_type": "code",
   "execution_count": null,
   "metadata": {},
   "outputs": [],
   "source": [
    "predictions = regxg.predict(X_test)"
   ]
  },
  {
   "cell_type": "code",
   "execution_count": null,
   "metadata": {},
   "outputs": [],
   "source": [
    "xg.plot_importance(regxg)"
   ]
  },
  {
   "cell_type": "code",
   "execution_count": null,
   "metadata": {},
   "outputs": [],
   "source": [
    "xg.plot_importance(regxgnolin)"
   ]
  },
  {
   "attachments": {},
   "cell_type": "markdown",
   "metadata": {},
   "source": [
    "Can only display coefficients for the Linear Part of XGBoost"
   ]
  },
  {
   "cell_type": "code",
   "execution_count": null,
   "metadata": {},
   "outputs": [],
   "source": [
    "regxg.coef_\n",
    "importance = np.abs(regxg.coef_)\n",
    "\n",
    "df_xgboost = pd.DataFrame({\"coeff\": importance, \n",
    "                       \"name\": features,\"reg\":\"XGBoost\"})\n",
    "df_xgboost\n",
    "dfdisplay=pd.concat([df_imp,df_lasso,df_xgboost\n",
    "])"
   ]
  },
  {
   "attachments": {},
   "cell_type": "markdown",
   "metadata": {},
   "source": [
    "# Model Comparison"
   ]
  },
  {
   "cell_type": "code",
   "execution_count": null,
   "metadata": {},
   "outputs": [],
   "source": [
    "Compdf = pd.DataFrame({\"Type\": [\"MAE_Regression\", \"RMSE_Regression\", \"MSE_Regression\", \"R2_Regression\", \"MAE_Lasso\", \"RMSE_Lasso\", \"MSE_Lasso\", \"R2_Lasso\",\"MAE_XGBOOST\", \"RMSE_XGBOOST\", \"MSE_XGBOOST\",\"R2_XGBOOST\",\"MAE_XGBOOSTNOLIN\", \"RMSE_XGBOOSTNOLIN\", \"MSE_XGBOOSTNOLIN\",\"R2_XGBOOSTNOLIN\"], \"Values\": [mean_absolute_error(y_test, y_pred).round(3), mean_squared_error(y_test, y_pred, squared=False).round(3), mean_squared_error(y_test, y_pred).round(\n",
    "    3), r2_score(y_test, y_pred).round(3), mean_absolute_error(y_test, lasso_best.predict(X_test)).round(3), mean_squared_error(y_test, lasso_best.predict(X_test), squared=False).round(3), mean_squared_error(y_test, lasso_best.predict(X_test)).round(3), r2_score(y_test, lasso_best.predict(X_test)).round(3),\n",
    "    mean_absolute_error(y_test, predictions).round(3), mean_squared_error(y_test, predictions, squared=False).round(3), mean_squared_error(y_test, predictions).round(\n",
    "    3), r2_score(y_test, predictions).round(3),mean_absolute_error(y_test, predictionsnolin).round(3), mean_squared_error(y_test, predictionsnolin, squared=False).round(3), mean_squared_error(y_test, predictionsnolin).round(\n",
    "    3), r2_score(y_test, predictionsnolin).round(3)]})\n"
   ]
  },
  {
   "cell_type": "code",
   "execution_count": null,
   "metadata": {},
   "outputs": [],
   "source": [
    "Compdf"
   ]
  },
  {
   "cell_type": "code",
   "execution_count": null,
   "metadata": {},
   "outputs": [],
   "source": [
    "sns.barplot(Compdf,y=\"Type\",x=\"Values\")"
   ]
  },
  {
   "cell_type": "code",
   "execution_count": null,
   "metadata": {},
   "outputs": [],
   "source": [
    "sns.barplot(dfdisplay,y=\"name\",x=\"coeff\",hue=\"reg\")"
   ]
  },
  {
   "cell_type": "code",
   "execution_count": null,
   "metadata": {},
   "outputs": [],
   "source": [
    "dfscatter_Multilin= pd.DataFrame({'True Values':y_test,\"Predicted Values\":reg.predict(X_test),\"type\":\"Multilinear\"})\n",
    "dfscatter_Lasso= pd.DataFrame({'True Values':y_test,\"Predicted Values\":lasso_best.predict(X_test),\"type\":\"Lasso\"})\n",
    "dfscatter_XGboost=pd.DataFrame({'True Values':y_test,\"Predicted Values\":predictions,\"type\":\"XGBOOST\"})\n",
    "dfscatter_XGboostnolin=pd.DataFrame({'True Values':y_test,\"Predicted Values\":predictionsnolin,\"type\":\"XGBOOSTnolin\"})\n",
    "dfscatter=pd.concat([dfscatter_Multilin,dfscatter_Lasso,dfscatter_XGboost,dfscatter_XGboostnolin])"
   ]
  },
  {
   "cell_type": "code",
   "execution_count": null,
   "metadata": {},
   "outputs": [],
   "source": [
    "sns.boxplot(dfscatter,hue=\"type\",x=\"True Values\",y=\"Predicted Values\")"
   ]
  },
  {
   "attachments": {},
   "cell_type": "markdown",
   "metadata": {},
   "source": [
    "# Conclusions"
   ]
  }
 ],
 "metadata": {
  "kernelspec": {
   "display_name": "stats",
   "language": "python",
   "name": "python3"
  },
  "language_info": {
   "codemirror_mode": {
    "name": "ipython",
    "version": 3
   },
   "file_extension": ".py",
   "mimetype": "text/x-python",
   "name": "python",
   "nbconvert_exporter": "python",
   "pygments_lexer": "ipython3",
   "version": "3.9.15 | packaged by conda-forge | (main, Nov 22 2022, 08:39:05) [MSC v.1929 64 bit (AMD64)]"
  },
  "orig_nbformat": 4,
  "vscode": {
   "interpreter": {
    "hash": "d658152753fb78692284d722f8665069cf1f80281cff06d1f12baef637756857"
   }
  }
 },
 "nbformat": 4,
 "nbformat_minor": 2
}
