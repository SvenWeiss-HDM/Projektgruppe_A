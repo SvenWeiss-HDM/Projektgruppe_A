{
 "cells": [
  {
   "cell_type": "markdown",
   "metadata": {},
   "source": [
    "# Draft analysis \n",
    "\n",
    "---\n",
    "\n",
    "Group name:\n",
    "\n",
    "---\n"
   ]
  },
  {
   "cell_type": "markdown",
   "metadata": {},
   "source": [
    "## Introduction\n",
    "\n",
    "*This section includes an introduction to the project motivation, data, and research question. Include a data dictionary* "
   ]
  },
  {
   "cell_type": "markdown",
   "metadata": {},
   "source": [
    "## Setup"
   ]
  },
  {
   "cell_type": "code",
   "execution_count": 61,
   "metadata": {},
   "outputs": [
    {
     "data": {
      "text/plain": [
       "DataTransformerRegistry.enable('default')"
      ]
     },
     "execution_count": 61,
     "metadata": {},
     "output_type": "execute_result"
    }
   ],
   "source": [
    "%matplotlib inline\n",
    "\n",
    "import pandas as pd\n",
    "import altair as alt\n",
    "import seaborn as sns\n",
    "\n",
    "from sklearn.linear_model import LinearRegression\n",
    "\n",
    "from sklearn.model_selection import train_test_split\n",
    "from sklearn.model_selection import cross_val_score\n",
    "\n",
    "from sklearn.metrics import mean_squared_error\n",
    "from sklearn.metrics import mean_absolute_error\n",
    "\n",
    "alt.data_transformers.disable_max_rows()"
   ]
  },
  {
   "cell_type": "markdown",
   "metadata": {},
   "source": [
    "## Data"
   ]
  },
  {
   "cell_type": "markdown",
   "metadata": {},
   "source": [
    "## Import data"
   ]
  },
  {
   "cell_type": "code",
   "execution_count": 62,
   "metadata": {},
   "outputs": [],
   "source": [
    "df = pd.read_csv(\"../data/interim/TransformedData\",delimiter=\",\", index_col=0)"
   ]
  },
  {
   "cell_type": "code",
   "execution_count": 63,
   "metadata": {},
   "outputs": [
    {
     "data": {
      "text/html": [
       "<div>\n",
       "<style scoped>\n",
       "    .dataframe tbody tr th:only-of-type {\n",
       "        vertical-align: middle;\n",
       "    }\n",
       "\n",
       "    .dataframe tbody tr th {\n",
       "        vertical-align: top;\n",
       "    }\n",
       "\n",
       "    .dataframe thead th {\n",
       "        text-align: right;\n",
       "    }\n",
       "</style>\n",
       "<table border=\"1\" class=\"dataframe\">\n",
       "  <thead>\n",
       "    <tr style=\"text-align: right;\">\n",
       "      <th></th>\n",
       "      <th>iid</th>\n",
       "      <th>id</th>\n",
       "      <th>gender</th>\n",
       "      <th>idg</th>\n",
       "      <th>condtn</th>\n",
       "      <th>wave</th>\n",
       "      <th>round</th>\n",
       "      <th>position</th>\n",
       "      <th>positin1</th>\n",
       "      <th>order</th>\n",
       "      <th>...</th>\n",
       "      <th>attr3_3</th>\n",
       "      <th>sinc3_3</th>\n",
       "      <th>intel3_3</th>\n",
       "      <th>fun3_3</th>\n",
       "      <th>amb3_3</th>\n",
       "      <th>attr5_3</th>\n",
       "      <th>sinc5_3</th>\n",
       "      <th>intel5_3</th>\n",
       "      <th>fun5_3</th>\n",
       "      <th>amb5_3</th>\n",
       "    </tr>\n",
       "  </thead>\n",
       "  <tbody>\n",
       "    <tr>\n",
       "      <th>0</th>\n",
       "      <td>1</td>\n",
       "      <td>1.0</td>\n",
       "      <td>0</td>\n",
       "      <td>1</td>\n",
       "      <td>1</td>\n",
       "      <td>1</td>\n",
       "      <td>10</td>\n",
       "      <td>7</td>\n",
       "      <td>NaN</td>\n",
       "      <td>4</td>\n",
       "      <td>...</td>\n",
       "      <td>5.0</td>\n",
       "      <td>7.0</td>\n",
       "      <td>7.0</td>\n",
       "      <td>7.0</td>\n",
       "      <td>7.0</td>\n",
       "      <td>NaN</td>\n",
       "      <td>NaN</td>\n",
       "      <td>NaN</td>\n",
       "      <td>NaN</td>\n",
       "      <td>NaN</td>\n",
       "    </tr>\n",
       "    <tr>\n",
       "      <th>1</th>\n",
       "      <td>1</td>\n",
       "      <td>1.0</td>\n",
       "      <td>0</td>\n",
       "      <td>1</td>\n",
       "      <td>1</td>\n",
       "      <td>1</td>\n",
       "      <td>10</td>\n",
       "      <td>7</td>\n",
       "      <td>NaN</td>\n",
       "      <td>3</td>\n",
       "      <td>...</td>\n",
       "      <td>5.0</td>\n",
       "      <td>7.0</td>\n",
       "      <td>7.0</td>\n",
       "      <td>7.0</td>\n",
       "      <td>7.0</td>\n",
       "      <td>NaN</td>\n",
       "      <td>NaN</td>\n",
       "      <td>NaN</td>\n",
       "      <td>NaN</td>\n",
       "      <td>NaN</td>\n",
       "    </tr>\n",
       "    <tr>\n",
       "      <th>2</th>\n",
       "      <td>1</td>\n",
       "      <td>1.0</td>\n",
       "      <td>0</td>\n",
       "      <td>1</td>\n",
       "      <td>1</td>\n",
       "      <td>1</td>\n",
       "      <td>10</td>\n",
       "      <td>7</td>\n",
       "      <td>NaN</td>\n",
       "      <td>10</td>\n",
       "      <td>...</td>\n",
       "      <td>5.0</td>\n",
       "      <td>7.0</td>\n",
       "      <td>7.0</td>\n",
       "      <td>7.0</td>\n",
       "      <td>7.0</td>\n",
       "      <td>NaN</td>\n",
       "      <td>NaN</td>\n",
       "      <td>NaN</td>\n",
       "      <td>NaN</td>\n",
       "      <td>NaN</td>\n",
       "    </tr>\n",
       "    <tr>\n",
       "      <th>3</th>\n",
       "      <td>1</td>\n",
       "      <td>1.0</td>\n",
       "      <td>0</td>\n",
       "      <td>1</td>\n",
       "      <td>1</td>\n",
       "      <td>1</td>\n",
       "      <td>10</td>\n",
       "      <td>7</td>\n",
       "      <td>NaN</td>\n",
       "      <td>5</td>\n",
       "      <td>...</td>\n",
       "      <td>5.0</td>\n",
       "      <td>7.0</td>\n",
       "      <td>7.0</td>\n",
       "      <td>7.0</td>\n",
       "      <td>7.0</td>\n",
       "      <td>NaN</td>\n",
       "      <td>NaN</td>\n",
       "      <td>NaN</td>\n",
       "      <td>NaN</td>\n",
       "      <td>NaN</td>\n",
       "    </tr>\n",
       "    <tr>\n",
       "      <th>4</th>\n",
       "      <td>1</td>\n",
       "      <td>1.0</td>\n",
       "      <td>0</td>\n",
       "      <td>1</td>\n",
       "      <td>1</td>\n",
       "      <td>1</td>\n",
       "      <td>10</td>\n",
       "      <td>7</td>\n",
       "      <td>NaN</td>\n",
       "      <td>7</td>\n",
       "      <td>...</td>\n",
       "      <td>5.0</td>\n",
       "      <td>7.0</td>\n",
       "      <td>7.0</td>\n",
       "      <td>7.0</td>\n",
       "      <td>7.0</td>\n",
       "      <td>NaN</td>\n",
       "      <td>NaN</td>\n",
       "      <td>NaN</td>\n",
       "      <td>NaN</td>\n",
       "      <td>NaN</td>\n",
       "    </tr>\n",
       "  </tbody>\n",
       "</table>\n",
       "<p>5 rows × 195 columns</p>\n",
       "</div>"
      ],
      "text/plain": [
       "   iid   id  gender  idg  condtn  wave  round  position  positin1  order  ...  \\\n",
       "0    1  1.0       0    1       1     1     10         7       NaN      4  ...   \n",
       "1    1  1.0       0    1       1     1     10         7       NaN      3  ...   \n",
       "2    1  1.0       0    1       1     1     10         7       NaN     10  ...   \n",
       "3    1  1.0       0    1       1     1     10         7       NaN      5  ...   \n",
       "4    1  1.0       0    1       1     1     10         7       NaN      7  ...   \n",
       "\n",
       "   attr3_3  sinc3_3  intel3_3  fun3_3  amb3_3  attr5_3  sinc5_3  intel5_3  \\\n",
       "0      5.0      7.0       7.0     7.0     7.0      NaN      NaN       NaN   \n",
       "1      5.0      7.0       7.0     7.0     7.0      NaN      NaN       NaN   \n",
       "2      5.0      7.0       7.0     7.0     7.0      NaN      NaN       NaN   \n",
       "3      5.0      7.0       7.0     7.0     7.0      NaN      NaN       NaN   \n",
       "4      5.0      7.0       7.0     7.0     7.0      NaN      NaN       NaN   \n",
       "\n",
       "   fun5_3  amb5_3  \n",
       "0     NaN     NaN  \n",
       "1     NaN     NaN  \n",
       "2     NaN     NaN  \n",
       "3     NaN     NaN  \n",
       "4     NaN     NaN  \n",
       "\n",
       "[5 rows x 195 columns]"
      ]
     },
     "execution_count": 63,
     "metadata": {},
     "output_type": "execute_result"
    }
   ],
   "source": [
    "df.head()"
   ]
  },
  {
   "cell_type": "markdown",
   "metadata": {},
   "source": [
    "### Data structure"
   ]
  },
  {
   "cell_type": "code",
   "execution_count": 64,
   "metadata": {},
   "outputs": [
    {
     "name": "stdout",
     "output_type": "stream",
     "text": [
      "<class 'pandas.core.frame.DataFrame'>\n",
      "Int64Index: 8378 entries, 0 to 8377\n",
      "Columns: 195 entries, iid to amb5_3\n",
      "dtypes: float64(175), int64(13), object(7)\n",
      "memory usage: 12.5+ MB\n"
     ]
    }
   ],
   "source": [
    "df.info()"
   ]
  },
  {
   "cell_type": "markdown",
   "metadata": {},
   "source": [
    "### Data corrections"
   ]
  },
  {
   "cell_type": "code",
   "execution_count": 65,
   "metadata": {},
   "outputs": [],
   "source": [
    "cat_vars = [\n",
    "    \"gender\", \n",
    "    \"condtn\",\n",
    "    \"match\",\n",
    "    \"samerace\",\n",
    "    \"age_o\",\n",
    "    \"race_o\",\n",
    "    \"dec_o\",\n",
    "    \"met_o\",\n",
    "    \"field_cd\",\n",
    "    \"race\",\n",
    "    \"zipcode\",\n",
    "    \"goal\",\n",
    "    \"date\",\n",
    "    \"go_out\",\n",
    "    \"career_c\",\n",
    "    \"dec\",\n",
    "    \"met\",\n",
    "    \"length\",\n",
    "    \"numdat_2\",\n",
    "    \"date_3\",\n",
    "]\n",
    "\n",
    "float_vars = [\n",
    "    \"int_corr\",\n",
    "    \"pf_o_att\",\n",
    "    \"pf_o_sin\",\n",
    "    \"pf_o_int\",\n",
    "    \"pf_o_fun\",\n",
    "    \"pf_o_amb\",\n",
    "    \"pf_o_sha\",\n",
    "    \"income\",\n",
    "    \"attr1_1\",\n",
    "    \"sinc1_1\",\n",
    "    \"intel1_1\",\n",
    "    \"fun1_1\",\n",
    "    \"amb1_1\",\n",
    "    \"shar1_1\",\n",
    "    \"attr4_1\",\n",
    "    \"sinc4_1\",\n",
    "    \"intel4_1\",\n",
    "    \"fun4_1\",\n",
    "    \"amb4_1\",\n",
    "    \"shar4_1\",\n",
    "    \"attr2_1\",\n",
    "    \"sinc2_1\",\n",
    "    \"intel2_1\",\n",
    "    \"fun2_1\",\n",
    "    \"amb2_1\",\n",
    "    \"shar2_1\"\n",
    "]\n",
    "\n",
    "int_vars = [\n",
    "    \"attr_o\",\n",
    "    \"sinc_o\",\n",
    "    \"intel_o\",\n",
    "    \"fun_o\",\n",
    "    \"amb_o\",\n",
    "    \"shar_o\",\n",
    "    \"like_o\",\n",
    "    \"prob_o\",\n",
    "    \"age\",\n",
    "    \"imprace\",\n",
    "    \"imprelig\",\n",
    "    \"sports\",\n",
    "    \"tvsports\",\n",
    "    \"excersice\",\n",
    "    \"dining\",\n",
    "    \"museums\",\n",
    "    \"art\",\n",
    "    \"hiking\",\n",
    "    \"gaming\",\n",
    "    \"clubbing\",\n",
    "    \"reading\",\n",
    "    \"tv\",\n",
    "    \"theater\",\n",
    "    \"movies\",\n",
    "    \"concerts\",\n",
    "    \"music\",\n",
    "    \"shopping\",\n",
    "    \"yoga\",\n",
    "    \"exhappy\",\n",
    "    \"attr3_1\",\n",
    "    \"sinc3_1\",\n",
    "    \"intel3_1\",\n",
    "    \"fun3_1\",\n",
    "    \"amb3_1\",\n",
    "    \"attr5_1\",\n",
    "    \"sinc5_1\",\n",
    "    \"intel5_1\",\n",
    "    \"fun5_1\",\n",
    "    \"amb5_1\",\n",
    "    \"attr\",\n",
    "    \"sinc\",\n",
    "    \"intel\",\n",
    "    \"fun\",\n",
    "    \"amb\",\n",
    "    \"shar\",\n",
    "    \"like\",\n",
    "    \"prob\",\n",
    "    \"attr1_s\",\n",
    "    \"sinc1_s\",\n",
    "    \"intel1_s\",\n",
    "    \"fun1_s\",\n",
    "    \"amb1_s\",\n",
    "    \"shar1_s\",\n",
    "    \"attr4_s\",\n",
    "    \"sinc4_s\",\n",
    "    \"intel4_s\",\n",
    "    \"fun4_s\",\n",
    "    \"amb4_s\",\n",
    "    \"satis_2\",\n",
    "    \"iid\",\n",
    "    \"id\",\n",
    "    \"idg\",\n",
    "    \"wave\",\n",
    "    \"round\",\n",
    "    \"order\",\n",
    "    \"partner\",\n",
    "    \"pid\",\n",
    "    \"expnum\",\n",
    "    \"you_call\",\n",
    "    \"them_cal\",\n",
    "    \"numdat_3\",\n",
    "    \"num_in_3\",\n",
    "    \"position\",\n",
    "    \"positin1\",\n",
    "]\n",
    "\n",
    "str_vars = [\n",
    "    \"field\",\n",
    "    \"from\",\n",
    "    \"career\"\n",
    "]\n",
    "\n",
    "unused_vars = [\n",
    "    \"undergrd\",\n",
    "    \"mn_sat\",\n",
    "    \"tuition\"\n",
    "]"
   ]
  },
  {
   "cell_type": "code",
   "execution_count": 66,
   "metadata": {},
   "outputs": [],
   "source": [
    "df[cat_vars]=df[cat_vars].astype(\"category\",copy=False)\n",
    "df[float_vars]=df[float_vars].astype(\"float\",copy=False)\n",
    "df[str_vars]=df[str_vars].astype(\"str\",copy=False)"
   ]
  },
  {
   "cell_type": "code",
   "execution_count": 67,
   "metadata": {},
   "outputs": [],
   "source": [
    "df['calls'] = df['you_call'] + df['them_cal']"
   ]
  },
  {
   "cell_type": "code",
   "execution_count": 68,
   "metadata": {},
   "outputs": [
    {
     "data": {
      "text/plain": [
       "0.0     1284\n",
       "1.0      935\n",
       "2.0      848\n",
       "4.0      275\n",
       "3.0      254\n",
       "5.0      196\n",
       "6.0      115\n",
       "9.0       21\n",
       "14.0      18\n",
       "10.0      18\n",
       "22.0      10\n",
       "Name: calls, dtype: int64"
      ]
     },
     "execution_count": 68,
     "metadata": {},
     "output_type": "execute_result"
    }
   ],
   "source": [
    "df['calls'].value_counts()"
   ]
  },
  {
   "cell_type": "code",
   "execution_count": null,
   "metadata": {},
   "outputs": [],
   "source": [
    "variables = ['fun', 'shar', 'attr', 'prob', 'intel', 'sinc', 'amb', 'gender', 'samerace', 'race', 'race_o', 'calls', 'age', 'age_o', 'imprace', 'order', 'int_corr']\n",
    "df = df[variables]"
   ]
  },
  {
   "cell_type": "code",
   "execution_count": null,
   "metadata": {},
   "outputs": [],
   "source": [
    "g=sns.displot(\n",
    "    data=df.isna().melt(value_name=\"NaN\"),\n",
    "    y=\"variable\",\n",
    "    hue=\"NaN\",\n",
    "    multiple=\"fill\",\n",
    ")"
   ]
  },
  {
   "attachments": {},
   "cell_type": "markdown",
   "metadata": {},
   "source": [
    "Drop NAs"
   ]
  },
  {
   "cell_type": "code",
   "execution_count": null,
   "metadata": {},
   "outputs": [],
   "source": [
    "df"
   ]
  },
  {
   "cell_type": "code",
   "execution_count": null,
   "metadata": {},
   "outputs": [],
   "source": [
    "df.isna().sum()"
   ]
  },
  {
   "cell_type": "code",
   "execution_count": null,
   "metadata": {},
   "outputs": [],
   "source": [
    "df['them_cal'].fillna(value=0, inplace=True)\n",
    "df.dropna(inplace=True)\n",
    "df.reset_index(inplace=True)"
   ]
  },
  {
   "cell_type": "code",
   "execution_count": null,
   "metadata": {},
   "outputs": [],
   "source": [
    "g=sns.displot(\n",
    "    data=df.isna().melt(value_name=\"NaN\"),\n",
    "    y=\"variable\",\n",
    "    hue=\"NaN\",\n",
    "    multiple=\"fill\",\n",
    ")"
   ]
  },
  {
   "cell_type": "code",
   "execution_count": null,
   "metadata": {},
   "outputs": [],
   "source": []
  },
  {
   "cell_type": "markdown",
   "metadata": {},
   "source": [
    "### Variable lists"
   ]
  },
  {
   "cell_type": "code",
   "execution_count": null,
   "metadata": {},
   "outputs": [],
   "source": [
    "y_label = 'match'\n",
    "features = ['fun', 'shar', 'attr', 'prob', 'intel', 'sinc', 'amb', 'gender', 'samerace', 'race', 'race_o', 'them_cal', 'age', 'age_o', 'imprace', 'order', 'int_corr']\n",
    "\n",
    "X = df[features]\n",
    "y = df[y_label]"
   ]
  },
  {
   "cell_type": "markdown",
   "metadata": {},
   "source": [
    "### Data splitting"
   ]
  },
  {
   "cell_type": "code",
   "execution_count": null,
   "metadata": {},
   "outputs": [],
   "source": [
    "X_train_r, X_test_r, y_train_r, y_test_r = train_test_split(X, y, \n",
    "                                                    test_size=0.2, \n",
    "                                                    shuffle=True,\n",
    "                                                    random_state=42)"
   ]
  },
  {
   "cell_type": "markdown",
   "metadata": {},
   "source": [
    "## Analysis"
   ]
  },
  {
   "cell_type": "markdown",
   "metadata": {},
   "source": [
    "### Descriptive statistics"
   ]
  },
  {
   "cell_type": "code",
   "execution_count": null,
   "metadata": {},
   "outputs": [],
   "source": [
    "df.describe().T"
   ]
  },
  {
   "cell_type": "markdown",
   "metadata": {},
   "source": [
    "### Exploratory data analysis"
   ]
  },
  {
   "cell_type": "code",
   "execution_count": null,
   "metadata": {},
   "outputs": [],
   "source": [
    "alt.Chart(df).mark_bar().encode(\n",
    "    alt.X(alt.repeat(\"column\"), type=\"quantitative\", bin=True),\n",
    "    y='count()',\n",
    ").properties(\n",
    "    width=150,\n",
    "    height=150\n",
    ").repeat(\n",
    "    column=features\n",
    ")"
   ]
  },
  {
   "cell_type": "code",
   "execution_count": null,
   "metadata": {},
   "outputs": [],
   "source": [
    "# ... TODO"
   ]
  },
  {
   "cell_type": "markdown",
   "metadata": {},
   "source": [
    "### Relationships"
   ]
  },
  {
   "cell_type": "code",
   "execution_count": null,
   "metadata": {},
   "outputs": [],
   "source": [
    "df"
   ]
  },
  {
   "cell_type": "code",
   "execution_count": null,
   "metadata": {},
   "outputs": [],
   "source": [
    "# inspect correlation between outcome and possible predictors\n",
    "df['match']=df['match'].astype(\"int\",copy=False)\n",
    "df['samerace']=df['samerace'].astype(\"int\",copy=False)\n",
    "\n",
    "corr = df.corr()\n",
    "corr['match'].sort_values(ascending=False)"
   ]
  },
  {
   "cell_type": "code",
   "execution_count": null,
   "metadata": {},
   "outputs": [],
   "source": [
    "# take a look at all correlations\n",
    "df2 = pd.DataFrame(corr)\n",
    "#pd.set_option('display.max_rows', None)\n",
    "df2['match'].sort_values(ascending=False)"
   ]
  },
  {
   "cell_type": "code",
   "execution_count": null,
   "metadata": {},
   "outputs": [],
   "source": [
    "corr['match'].style.background_gradient(cmap='Blues')"
   ]
  },
  {
   "cell_type": "markdown",
   "metadata": {},
   "source": [
    "## Model"
   ]
  },
  {
   "cell_type": "markdown",
   "metadata": {},
   "source": [
    "### Select model"
   ]
  },
  {
   "cell_type": "code",
   "execution_count": null,
   "metadata": {},
   "outputs": [],
   "source": [
    "# select the linear regression model\n",
    "reg = LinearRegression()"
   ]
  },
  {
   "cell_type": "markdown",
   "metadata": {},
   "source": [
    "### Training and validation"
   ]
  },
  {
   "cell_type": "code",
   "execution_count": null,
   "metadata": {},
   "outputs": [],
   "source": []
  },
  {
   "cell_type": "markdown",
   "metadata": {},
   "source": [
    "### Fit model"
   ]
  },
  {
   "cell_type": "code",
   "execution_count": null,
   "metadata": {},
   "outputs": [],
   "source": [
    "# Fit the model to the data\n",
    "reg.fit(X, y)"
   ]
  },
  {
   "cell_type": "markdown",
   "metadata": {},
   "source": [
    "### Evaluation on test set"
   ]
  },
  {
   "cell_type": "code",
   "execution_count": null,
   "metadata": {},
   "outputs": [],
   "source": []
  },
  {
   "cell_type": "markdown",
   "metadata": {},
   "source": [
    "### Save model\n"
   ]
  },
  {
   "cell_type": "markdown",
   "metadata": {},
   "source": [
    "\n",
    "Save your model in the folder `models/`. Use a meaningful name and a timestamp."
   ]
  },
  {
   "cell_type": "code",
   "execution_count": null,
   "metadata": {},
   "outputs": [],
   "source": []
  },
  {
   "cell_type": "markdown",
   "metadata": {},
   "source": [
    "## Conclusions"
   ]
  },
  {
   "cell_type": "markdown",
   "metadata": {},
   "source": []
  }
 ],
 "metadata": {
  "kernelspec": {
   "display_name": "stats",
   "language": "python",
   "name": "python3"
  },
  "language_info": {
   "codemirror_mode": {
    "name": "ipython",
    "version": 3
   },
   "file_extension": ".py",
   "mimetype": "text/x-python",
   "name": "python",
   "nbconvert_exporter": "python",
   "pygments_lexer": "ipython3",
   "version": "3.9.15"
  },
  "orig_nbformat": 4,
  "vscode": {
   "interpreter": {
    "hash": "3a0f3ad14519b735d3b531c9de039f00fb93fc5113abea86e8535c5e9fe3fe0f"
   }
  }
 },
 "nbformat": 4,
 "nbformat_minor": 2
}
